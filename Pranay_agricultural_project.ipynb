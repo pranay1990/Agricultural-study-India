{
 "cells": [
  {
   "cell_type": "markdown",
   "metadata": {},
   "source": [
    "# Agricultural case study of India"
   ]
  },
  {
   "cell_type": "markdown",
   "metadata": {},
   "source": [
    "### Importing required libraries for the project "
   ]
  },
  {
   "cell_type": "code",
   "execution_count": 1,
   "metadata": {},
   "outputs": [],
   "source": [
    "import numpy as np\n",
    "import pandas as pd\n",
    "from matplotlib import pyplot as plt\n",
    "%matplotlib inline"
   ]
  },
  {
   "cell_type": "markdown",
   "metadata": {},
   "source": [
    "## Data preparation and understanding in the following section"
   ]
  },
  {
   "cell_type": "code",
   "execution_count": 2,
   "metadata": {},
   "outputs": [
    {
     "name": "stderr",
     "output_type": "stream",
     "text": [
      "/home/pranay/anaconda3/lib/python3.7/site-packages/IPython/core/interactiveshell.py:3147: DtypeWarning: Columns (11,12,14,15) have mixed types.Specify dtype option on import or set low_memory=False.\n",
      "  interactivity=interactivity, compiler=compiler, result=result)\n"
     ]
    },
    {
     "data": {
      "text/html": [
       "<div>\n",
       "<style scoped>\n",
       "    .dataframe tbody tr th:only-of-type {\n",
       "        vertical-align: middle;\n",
       "    }\n",
       "\n",
       "    .dataframe tbody tr th {\n",
       "        vertical-align: top;\n",
       "    }\n",
       "\n",
       "    .dataframe thead th {\n",
       "        text-align: right;\n",
       "    }\n",
       "</style>\n",
       "<table border=\"1\" class=\"dataframe\">\n",
       "  <thead>\n",
       "    <tr style=\"text-align: right;\">\n",
       "      <th></th>\n",
       "      <th>Sno</th>\n",
       "      <th>State_Name</th>\n",
       "      <th>District_Name</th>\n",
       "      <th>Crop_Year</th>\n",
       "      <th>Season</th>\n",
       "      <th>Crop</th>\n",
       "      <th>Area</th>\n",
       "      <th>Production</th>\n",
       "      <th>Unnamed: 8</th>\n",
       "      <th>Sno.1</th>\n",
       "      <th>Unnamed: 10</th>\n",
       "      <th>State_Name.1</th>\n",
       "      <th>District_Name.1</th>\n",
       "      <th>Crop_Year.1</th>\n",
       "      <th>Season.1</th>\n",
       "      <th>Crop.1</th>\n",
       "      <th>Area.1</th>\n",
       "      <th>Production.1</th>\n",
       "    </tr>\n",
       "  </thead>\n",
       "  <tbody>\n",
       "    <tr>\n",
       "      <th>0</th>\n",
       "      <td>1</td>\n",
       "      <td>Andaman and Nicobar Islands</td>\n",
       "      <td>NICOBARS</td>\n",
       "      <td>2000</td>\n",
       "      <td>Kharif</td>\n",
       "      <td>Arecanut</td>\n",
       "      <td>1254.0</td>\n",
       "      <td>2000.0</td>\n",
       "      <td>NaN</td>\n",
       "      <td>191620.0</td>\n",
       "      <td>NaN</td>\n",
       "      <td>Telangana</td>\n",
       "      <td>NIZAMABAD</td>\n",
       "      <td>1998.0</td>\n",
       "      <td>Kharif</td>\n",
       "      <td>Arhar/Tur</td>\n",
       "      <td>2200.0</td>\n",
       "      <td>800.0</td>\n",
       "    </tr>\n",
       "    <tr>\n",
       "      <th>1</th>\n",
       "      <td>2</td>\n",
       "      <td>Andaman and Nicobar Islands</td>\n",
       "      <td>NICOBARS</td>\n",
       "      <td>2000</td>\n",
       "      <td>Kharif</td>\n",
       "      <td>Other Kharif pulses</td>\n",
       "      <td>2.0</td>\n",
       "      <td>1.0</td>\n",
       "      <td>NaN</td>\n",
       "      <td>191621.0</td>\n",
       "      <td>NaN</td>\n",
       "      <td>Telangana</td>\n",
       "      <td>NIZAMABAD</td>\n",
       "      <td>1998.0</td>\n",
       "      <td>Kharif</td>\n",
       "      <td>Castor seed</td>\n",
       "      <td>200.0</td>\n",
       "      <td>100.0</td>\n",
       "    </tr>\n",
       "    <tr>\n",
       "      <th>2</th>\n",
       "      <td>3</td>\n",
       "      <td>Andaman and Nicobar Islands</td>\n",
       "      <td>NICOBARS</td>\n",
       "      <td>2000</td>\n",
       "      <td>Kharif</td>\n",
       "      <td>Rice</td>\n",
       "      <td>102.0</td>\n",
       "      <td>321.0</td>\n",
       "      <td>NaN</td>\n",
       "      <td>191622.0</td>\n",
       "      <td>NaN</td>\n",
       "      <td>Telangana</td>\n",
       "      <td>NIZAMABAD</td>\n",
       "      <td>1998.0</td>\n",
       "      <td>Kharif</td>\n",
       "      <td>Cotton(lint)</td>\n",
       "      <td>20000.0</td>\n",
       "      <td>28500.0</td>\n",
       "    </tr>\n",
       "    <tr>\n",
       "      <th>3</th>\n",
       "      <td>4</td>\n",
       "      <td>Andaman and Nicobar Islands</td>\n",
       "      <td>NICOBARS</td>\n",
       "      <td>2000</td>\n",
       "      <td>Whole Year</td>\n",
       "      <td>Banana</td>\n",
       "      <td>176.0</td>\n",
       "      <td>641.0</td>\n",
       "      <td>NaN</td>\n",
       "      <td>191623.0</td>\n",
       "      <td>NaN</td>\n",
       "      <td>Telangana</td>\n",
       "      <td>NIZAMABAD</td>\n",
       "      <td>1998.0</td>\n",
       "      <td>Kharif</td>\n",
       "      <td>Groundnut</td>\n",
       "      <td>300.0</td>\n",
       "      <td>400.0</td>\n",
       "    </tr>\n",
       "    <tr>\n",
       "      <th>4</th>\n",
       "      <td>5</td>\n",
       "      <td>Andaman and Nicobar Islands</td>\n",
       "      <td>NICOBARS</td>\n",
       "      <td>2000</td>\n",
       "      <td>Whole Year</td>\n",
       "      <td>Cashewnut</td>\n",
       "      <td>720.0</td>\n",
       "      <td>165.0</td>\n",
       "      <td>NaN</td>\n",
       "      <td>191624.0</td>\n",
       "      <td>NaN</td>\n",
       "      <td>Telangana</td>\n",
       "      <td>NIZAMABAD</td>\n",
       "      <td>1998.0</td>\n",
       "      <td>Kharif</td>\n",
       "      <td>Jowar</td>\n",
       "      <td>3400.0</td>\n",
       "      <td>2000.0</td>\n",
       "    </tr>\n",
       "  </tbody>\n",
       "</table>\n",
       "</div>"
      ],
      "text/plain": [
       "   Sno                   State_Name District_Name  Crop_Year      Season  \\\n",
       "0    1  Andaman and Nicobar Islands      NICOBARS       2000      Kharif   \n",
       "1    2  Andaman and Nicobar Islands      NICOBARS       2000      Kharif   \n",
       "2    3  Andaman and Nicobar Islands      NICOBARS       2000      Kharif   \n",
       "3    4  Andaman and Nicobar Islands      NICOBARS       2000  Whole Year   \n",
       "4    5  Andaman and Nicobar Islands      NICOBARS       2000  Whole Year   \n",
       "\n",
       "                  Crop    Area  Production  Unnamed: 8     Sno.1  Unnamed: 10  \\\n",
       "0             Arecanut  1254.0      2000.0         NaN  191620.0          NaN   \n",
       "1  Other Kharif pulses     2.0         1.0         NaN  191621.0          NaN   \n",
       "2                 Rice   102.0       321.0         NaN  191622.0          NaN   \n",
       "3               Banana   176.0       641.0         NaN  191623.0          NaN   \n",
       "4            Cashewnut   720.0       165.0         NaN  191624.0          NaN   \n",
       "\n",
       "  State_Name.1 District_Name.1  Crop_Year.1 Season.1        Crop.1   Area.1  \\\n",
       "0    Telangana       NIZAMABAD       1998.0   Kharif     Arhar/Tur   2200.0   \n",
       "1    Telangana       NIZAMABAD       1998.0   Kharif   Castor seed    200.0   \n",
       "2    Telangana       NIZAMABAD       1998.0   Kharif  Cotton(lint)  20000.0   \n",
       "3    Telangana       NIZAMABAD       1998.0   Kharif     Groundnut    300.0   \n",
       "4    Telangana       NIZAMABAD       1998.0   Kharif         Jowar   3400.0   \n",
       "\n",
       "   Production.1  \n",
       "0         800.0  \n",
       "1         100.0  \n",
       "2       28500.0  \n",
       "3         400.0  \n",
       "4        2000.0  "
      ]
     },
     "execution_count": 2,
     "metadata": {},
     "output_type": "execute_result"
    }
   ],
   "source": [
    "dataset=pd.read_csv('./Data Set - Crop_production1.csv')\n",
    "dataset.head()"
   ]
  },
  {
   "cell_type": "markdown",
   "metadata": {},
   "source": [
    "### Splitting the imported data into two dataset, so that finally concatenate both of the datasets properly."
   ]
  },
  {
   "cell_type": "code",
   "execution_count": 3,
   "metadata": {},
   "outputs": [
    {
     "data": {
      "text/html": [
       "<div>\n",
       "<style scoped>\n",
       "    .dataframe tbody tr th:only-of-type {\n",
       "        vertical-align: middle;\n",
       "    }\n",
       "\n",
       "    .dataframe tbody tr th {\n",
       "        vertical-align: top;\n",
       "    }\n",
       "\n",
       "    .dataframe thead th {\n",
       "        text-align: right;\n",
       "    }\n",
       "</style>\n",
       "<table border=\"1\" class=\"dataframe\">\n",
       "  <thead>\n",
       "    <tr style=\"text-align: right;\">\n",
       "      <th></th>\n",
       "      <th>Sno</th>\n",
       "      <th>State_Name</th>\n",
       "      <th>District_Name</th>\n",
       "      <th>Crop_Year</th>\n",
       "      <th>Season</th>\n",
       "      <th>Crop</th>\n",
       "      <th>Area</th>\n",
       "      <th>Production</th>\n",
       "    </tr>\n",
       "  </thead>\n",
       "  <tbody>\n",
       "    <tr>\n",
       "      <th>0</th>\n",
       "      <td>1</td>\n",
       "      <td>Andaman and Nicobar Islands</td>\n",
       "      <td>NICOBARS</td>\n",
       "      <td>2000</td>\n",
       "      <td>Kharif</td>\n",
       "      <td>Arecanut</td>\n",
       "      <td>1254.0</td>\n",
       "      <td>2000.0</td>\n",
       "    </tr>\n",
       "    <tr>\n",
       "      <th>1</th>\n",
       "      <td>2</td>\n",
       "      <td>Andaman and Nicobar Islands</td>\n",
       "      <td>NICOBARS</td>\n",
       "      <td>2000</td>\n",
       "      <td>Kharif</td>\n",
       "      <td>Other Kharif pulses</td>\n",
       "      <td>2.0</td>\n",
       "      <td>1.0</td>\n",
       "    </tr>\n",
       "    <tr>\n",
       "      <th>2</th>\n",
       "      <td>3</td>\n",
       "      <td>Andaman and Nicobar Islands</td>\n",
       "      <td>NICOBARS</td>\n",
       "      <td>2000</td>\n",
       "      <td>Kharif</td>\n",
       "      <td>Rice</td>\n",
       "      <td>102.0</td>\n",
       "      <td>321.0</td>\n",
       "    </tr>\n",
       "    <tr>\n",
       "      <th>3</th>\n",
       "      <td>4</td>\n",
       "      <td>Andaman and Nicobar Islands</td>\n",
       "      <td>NICOBARS</td>\n",
       "      <td>2000</td>\n",
       "      <td>Whole Year</td>\n",
       "      <td>Banana</td>\n",
       "      <td>176.0</td>\n",
       "      <td>641.0</td>\n",
       "    </tr>\n",
       "    <tr>\n",
       "      <th>4</th>\n",
       "      <td>5</td>\n",
       "      <td>Andaman and Nicobar Islands</td>\n",
       "      <td>NICOBARS</td>\n",
       "      <td>2000</td>\n",
       "      <td>Whole Year</td>\n",
       "      <td>Cashewnut</td>\n",
       "      <td>720.0</td>\n",
       "      <td>165.0</td>\n",
       "    </tr>\n",
       "  </tbody>\n",
       "</table>\n",
       "</div>"
      ],
      "text/plain": [
       "   Sno                   State_Name District_Name  Crop_Year      Season  \\\n",
       "0    1  Andaman and Nicobar Islands      NICOBARS       2000      Kharif   \n",
       "1    2  Andaman and Nicobar Islands      NICOBARS       2000      Kharif   \n",
       "2    3  Andaman and Nicobar Islands      NICOBARS       2000      Kharif   \n",
       "3    4  Andaman and Nicobar Islands      NICOBARS       2000  Whole Year   \n",
       "4    5  Andaman and Nicobar Islands      NICOBARS       2000  Whole Year   \n",
       "\n",
       "                  Crop    Area  Production  \n",
       "0             Arecanut  1254.0      2000.0  \n",
       "1  Other Kharif pulses     2.0         1.0  \n",
       "2                 Rice   102.0       321.0  \n",
       "3               Banana   176.0       641.0  \n",
       "4            Cashewnut   720.0       165.0  "
      ]
     },
     "execution_count": 3,
     "metadata": {},
     "output_type": "execute_result"
    }
   ],
   "source": [
    "# Creating the first dataset\n",
    "df1=dataset[['Sno','State_Name','District_Name','Crop_Year','Season','Crop','Area','Production']]\n",
    "df1.head()"
   ]
  },
  {
   "cell_type": "code",
   "execution_count": 4,
   "metadata": {},
   "outputs": [
    {
     "data": {
      "text/plain": [
       "array(['Andaman and Nicobar Islands', 'Andhra Pradesh',\n",
       "       'Arunachal Pradesh', 'Assam', 'Bihar', 'Chandigarh',\n",
       "       'Chhattisgarh', 'Dadra and Nagar Haveli', 'Goa', 'Gujarat',\n",
       "       'Haryana', 'Himachal Pradesh', 'Jammu and Kashmir', 'Jharkhand',\n",
       "       'Karnataka', 'Kerala', 'Madhya Pradesh', 'Maharashtra', 'Manipur',\n",
       "       'Meghalaya', 'Mizoram', 'Nagaland', 'Odisha', 'Puducherry',\n",
       "       'Punjab', 'Rajasthan', 'Sikkim', 'Tamil Nadu', 'Telangana'],\n",
       "      dtype=object)"
      ]
     },
     "execution_count": 4,
     "metadata": {},
     "output_type": "execute_result"
    }
   ],
   "source": [
    "# Seeing listing unique name of states\n",
    "df1['State_Name'].unique()"
   ]
  },
  {
   "cell_type": "code",
   "execution_count": 5,
   "metadata": {},
   "outputs": [
    {
     "data": {
      "text/plain": [
       "array([2000, 2001, 2002, 2003, 2004, 2005, 2006, 2010, 1997, 1998, 1999,\n",
       "       2007, 2008, 2009, 2011, 2012, 2013, 2014, 2015])"
      ]
     },
     "execution_count": 5,
     "metadata": {},
     "output_type": "execute_result"
    }
   ],
   "source": [
    "# Seeing listing of year \n",
    "df1['Crop_Year'].unique()"
   ]
  },
  {
   "cell_type": "code",
   "execution_count": 6,
   "metadata": {},
   "outputs": [
    {
     "data": {
      "text/plain": [
       "array(['Arecanut', 'Other Kharif pulses', 'Rice', 'Banana', 'Cashewnut',\n",
       "       'Coconut', 'Dry ginger', 'Sugarcane', 'Sweet potato', 'Tapioca',\n",
       "       'other oilseeds', 'Black pepper', 'Dry chillies', 'Turmeric',\n",
       "       'Maize', 'Moong(Green Gram)', 'Urad', 'Arhar/Tur', 'Groundnut',\n",
       "       'Sunflower', 'Bajra', 'Castor seed', 'Cotton(lint)', 'Horse-gram',\n",
       "       'Jowar', 'Korra', 'Ragi', 'Tobacco', 'Gram', 'Wheat', 'Samai',\n",
       "       'Sesamum', 'Small millets', 'Varagu', 'Mesta', 'Other Rabi pulses',\n",
       "       'Masoor', 'Linseed', 'Safflower', 'Onion', 'Niger seed',\n",
       "       'Rapeseed &Mustard', 'other misc. pulses', 'Coriander', 'Potato',\n",
       "       'Soyabean', 'Beans & Mutter(Vegetable)', 'Bhindi', 'Brinjal',\n",
       "       'Citrus Fruit', 'Cucumber', 'Grapes', 'Mango', 'Orange',\n",
       "       'other fibres', 'Other Fresh Fruits', 'Other Vegetables', 'Papaya',\n",
       "       'Pome Fruit', 'Tomato', 'Cabbage', 'Peas (vegetable)',\n",
       "       'Bottle Gourd', 'Garlic', 'Ginger', 'Cowpea(Lobia)', 'Lemon',\n",
       "       'Pome Granet', 'Sapota', 'Sannhamp', 'Oilseeds total',\n",
       "       'Pulses total', 'Jute', 'Peas & beans (Pulses)', 'Pineapple',\n",
       "       'Blackgram', 'Paddy', 'Barley', 'Khesari', 'Guar seed', 'Moth',\n",
       "       'Other Cereals & Millets', 'Cond-spcs other', 'Turnip', 'Carrot',\n",
       "       'Redish', 'Cardamom', 'Arcanut (Processed)', 'Atcanut (Raw)',\n",
       "       'Cashewnut Processed', 'Cashewnut Raw', 'Rubber', 'Coffee', 'Tea',\n",
       "       'Bitter Gourd', 'Drum Stick', 'Jack Fruit', 'Snak Guard',\n",
       "       'Pump Kin', 'Cauliflower', 'Other Citrus Fruit', 'Water Melon',\n",
       "       'Total foodgrain', 'Kapas', 'Colocosia', 'Lentil', 'Bean',\n",
       "       'Jobster', 'Perilla', 'Rajmash Kholar', 'Ricebean (nagadal)',\n",
       "       'Ash Gourd', 'Beet Root', 'Lab-Lab', 'Ribed Guard', 'Yam', 'Apple',\n",
       "       'Peach', 'Pear', 'Plums', 'Ber', 'Litchi'], dtype=object)"
      ]
     },
     "execution_count": 6,
     "metadata": {},
     "output_type": "execute_result"
    }
   ],
   "source": [
    "# Seeing listing unique name of crops\n",
    "df1['Crop'].unique()"
   ]
  },
  {
   "cell_type": "code",
   "execution_count": 7,
   "metadata": {},
   "outputs": [
    {
     "data": {
      "text/html": [
       "<div>\n",
       "<style scoped>\n",
       "    .dataframe tbody tr th:only-of-type {\n",
       "        vertical-align: middle;\n",
       "    }\n",
       "\n",
       "    .dataframe tbody tr th {\n",
       "        vertical-align: top;\n",
       "    }\n",
       "\n",
       "    .dataframe thead th {\n",
       "        text-align: right;\n",
       "    }\n",
       "</style>\n",
       "<table border=\"1\" class=\"dataframe\">\n",
       "  <thead>\n",
       "    <tr style=\"text-align: right;\">\n",
       "      <th></th>\n",
       "      <th>Sno</th>\n",
       "      <th>State_Name</th>\n",
       "      <th>District_Name</th>\n",
       "      <th>Crop_Year</th>\n",
       "      <th>Season</th>\n",
       "      <th>Crop</th>\n",
       "      <th>Area</th>\n",
       "      <th>Production</th>\n",
       "    </tr>\n",
       "  </thead>\n",
       "  <tbody>\n",
       "    <tr>\n",
       "      <th>191614</th>\n",
       "      <td>191615</td>\n",
       "      <td>Telangana</td>\n",
       "      <td>NALGONDA</td>\n",
       "      <td>1998</td>\n",
       "      <td>Rabi</td>\n",
       "      <td>Sesamum</td>\n",
       "      <td>5900.0</td>\n",
       "      <td>2000.0</td>\n",
       "    </tr>\n",
       "    <tr>\n",
       "      <th>191615</th>\n",
       "      <td>191616</td>\n",
       "      <td>Telangana</td>\n",
       "      <td>NALGONDA</td>\n",
       "      <td>1998</td>\n",
       "      <td>Rabi</td>\n",
       "      <td>Sunflower</td>\n",
       "      <td>500.0</td>\n",
       "      <td>200.0</td>\n",
       "    </tr>\n",
       "    <tr>\n",
       "      <th>191616</th>\n",
       "      <td>191617</td>\n",
       "      <td>Telangana</td>\n",
       "      <td>NALGONDA</td>\n",
       "      <td>1998</td>\n",
       "      <td>Rabi</td>\n",
       "      <td>Urad</td>\n",
       "      <td>2700.0</td>\n",
       "      <td>900.0</td>\n",
       "    </tr>\n",
       "    <tr>\n",
       "      <th>191617</th>\n",
       "      <td>191618</td>\n",
       "      <td>Telangana</td>\n",
       "      <td>NALGONDA</td>\n",
       "      <td>1998</td>\n",
       "      <td>Whole Year</td>\n",
       "      <td>Sugarcane</td>\n",
       "      <td>100.0</td>\n",
       "      <td>7000.0</td>\n",
       "    </tr>\n",
       "    <tr>\n",
       "      <th>191618</th>\n",
       "      <td>191619</td>\n",
       "      <td>Telangana</td>\n",
       "      <td>NALGONDA</td>\n",
       "      <td>1998</td>\n",
       "      <td>Whole Year</td>\n",
       "      <td>Tobacco</td>\n",
       "      <td>300.0</td>\n",
       "      <td>500.0</td>\n",
       "    </tr>\n",
       "  </tbody>\n",
       "</table>\n",
       "</div>"
      ],
      "text/plain": [
       "           Sno State_Name District_Name  Crop_Year      Season       Crop  \\\n",
       "191614  191615  Telangana      NALGONDA       1998        Rabi    Sesamum   \n",
       "191615  191616  Telangana      NALGONDA       1998        Rabi  Sunflower   \n",
       "191616  191617  Telangana      NALGONDA       1998        Rabi       Urad   \n",
       "191617  191618  Telangana      NALGONDA       1998  Whole Year  Sugarcane   \n",
       "191618  191619  Telangana      NALGONDA       1998  Whole Year    Tobacco   \n",
       "\n",
       "          Area  Production  \n",
       "191614  5900.0      2000.0  \n",
       "191615   500.0       200.0  \n",
       "191616  2700.0       900.0  \n",
       "191617   100.0      7000.0  \n",
       "191618   300.0       500.0  "
      ]
     },
     "execution_count": 7,
     "metadata": {},
     "output_type": "execute_result"
    }
   ],
   "source": [
    "df1.tail()"
   ]
  },
  {
   "cell_type": "code",
   "execution_count": 8,
   "metadata": {},
   "outputs": [
    {
     "data": {
      "text/html": [
       "<div>\n",
       "<style scoped>\n",
       "    .dataframe tbody tr th:only-of-type {\n",
       "        vertical-align: middle;\n",
       "    }\n",
       "\n",
       "    .dataframe tbody tr th {\n",
       "        vertical-align: top;\n",
       "    }\n",
       "\n",
       "    .dataframe thead th {\n",
       "        text-align: right;\n",
       "    }\n",
       "</style>\n",
       "<table border=\"1\" class=\"dataframe\">\n",
       "  <thead>\n",
       "    <tr style=\"text-align: right;\">\n",
       "      <th></th>\n",
       "      <th>Sno.1</th>\n",
       "      <th>State_Name.1</th>\n",
       "      <th>District_Name.1</th>\n",
       "      <th>Crop_Year.1</th>\n",
       "      <th>Season.1</th>\n",
       "      <th>Crop.1</th>\n",
       "      <th>Area.1</th>\n",
       "      <th>Production.1</th>\n",
       "    </tr>\n",
       "  </thead>\n",
       "  <tbody>\n",
       "    <tr>\n",
       "      <th>0</th>\n",
       "      <td>191620.0</td>\n",
       "      <td>Telangana</td>\n",
       "      <td>NIZAMABAD</td>\n",
       "      <td>1998.0</td>\n",
       "      <td>Kharif</td>\n",
       "      <td>Arhar/Tur</td>\n",
       "      <td>2200.0</td>\n",
       "      <td>800.0</td>\n",
       "    </tr>\n",
       "    <tr>\n",
       "      <th>1</th>\n",
       "      <td>191621.0</td>\n",
       "      <td>Telangana</td>\n",
       "      <td>NIZAMABAD</td>\n",
       "      <td>1998.0</td>\n",
       "      <td>Kharif</td>\n",
       "      <td>Castor seed</td>\n",
       "      <td>200.0</td>\n",
       "      <td>100.0</td>\n",
       "    </tr>\n",
       "    <tr>\n",
       "      <th>2</th>\n",
       "      <td>191622.0</td>\n",
       "      <td>Telangana</td>\n",
       "      <td>NIZAMABAD</td>\n",
       "      <td>1998.0</td>\n",
       "      <td>Kharif</td>\n",
       "      <td>Cotton(lint)</td>\n",
       "      <td>20000.0</td>\n",
       "      <td>28500.0</td>\n",
       "    </tr>\n",
       "    <tr>\n",
       "      <th>3</th>\n",
       "      <td>191623.0</td>\n",
       "      <td>Telangana</td>\n",
       "      <td>NIZAMABAD</td>\n",
       "      <td>1998.0</td>\n",
       "      <td>Kharif</td>\n",
       "      <td>Groundnut</td>\n",
       "      <td>300.0</td>\n",
       "      <td>400.0</td>\n",
       "    </tr>\n",
       "    <tr>\n",
       "      <th>4</th>\n",
       "      <td>191624.0</td>\n",
       "      <td>Telangana</td>\n",
       "      <td>NIZAMABAD</td>\n",
       "      <td>1998.0</td>\n",
       "      <td>Kharif</td>\n",
       "      <td>Jowar</td>\n",
       "      <td>3400.0</td>\n",
       "      <td>2000.0</td>\n",
       "    </tr>\n",
       "  </tbody>\n",
       "</table>\n",
       "</div>"
      ],
      "text/plain": [
       "      Sno.1 State_Name.1 District_Name.1  Crop_Year.1 Season.1        Crop.1  \\\n",
       "0  191620.0    Telangana       NIZAMABAD       1998.0   Kharif     Arhar/Tur   \n",
       "1  191621.0    Telangana       NIZAMABAD       1998.0   Kharif   Castor seed   \n",
       "2  191622.0    Telangana       NIZAMABAD       1998.0   Kharif  Cotton(lint)   \n",
       "3  191623.0    Telangana       NIZAMABAD       1998.0   Kharif     Groundnut   \n",
       "4  191624.0    Telangana       NIZAMABAD       1998.0   Kharif         Jowar   \n",
       "\n",
       "    Area.1  Production.1  \n",
       "0   2200.0         800.0  \n",
       "1    200.0         100.0  \n",
       "2  20000.0       28500.0  \n",
       "3    300.0         400.0  \n",
       "4   3400.0        2000.0  "
      ]
     },
     "execution_count": 8,
     "metadata": {},
     "output_type": "execute_result"
    }
   ],
   "source": [
    "# Creating the second dataset\n",
    "df2=dataset[['Sno.1','State_Name.1','District_Name.1','Crop_Year.1','Season.1','Crop.1','Area.1','Production.1']]\n",
    "df2.head()"
   ]
  },
  {
   "cell_type": "code",
   "execution_count": 9,
   "metadata": {},
   "outputs": [
    {
     "data": {
      "text/plain": [
       "array(['Telangana', 'Tripura', 'Uttar Pradesh', 'Uttarakhand',\n",
       "       'West Bengal', nan], dtype=object)"
      ]
     },
     "execution_count": 9,
     "metadata": {},
     "output_type": "execute_result"
    }
   ],
   "source": [
    "df2['State_Name.1'].unique()"
   ]
  },
  {
   "cell_type": "code",
   "execution_count": 10,
   "metadata": {},
   "outputs": [],
   "source": [
    "# Deleting the imported dataset variable for effective computation.\n",
    "del dataset"
   ]
  },
  {
   "cell_type": "code",
   "execution_count": 11,
   "metadata": {},
   "outputs": [
    {
     "data": {
      "text/html": [
       "<div>\n",
       "<style scoped>\n",
       "    .dataframe tbody tr th:only-of-type {\n",
       "        vertical-align: middle;\n",
       "    }\n",
       "\n",
       "    .dataframe tbody tr th {\n",
       "        vertical-align: top;\n",
       "    }\n",
       "\n",
       "    .dataframe thead th {\n",
       "        text-align: right;\n",
       "    }\n",
       "</style>\n",
       "<table border=\"1\" class=\"dataframe\">\n",
       "  <thead>\n",
       "    <tr style=\"text-align: right;\">\n",
       "      <th></th>\n",
       "      <th>Sno</th>\n",
       "      <th>State_Name</th>\n",
       "      <th>District_Name</th>\n",
       "      <th>Crop_Year</th>\n",
       "      <th>Season</th>\n",
       "      <th>Crop</th>\n",
       "      <th>Area</th>\n",
       "      <th>Production</th>\n",
       "    </tr>\n",
       "  </thead>\n",
       "  <tbody>\n",
       "    <tr>\n",
       "      <th>0</th>\n",
       "      <td>191620.0</td>\n",
       "      <td>Telangana</td>\n",
       "      <td>NIZAMABAD</td>\n",
       "      <td>1998.0</td>\n",
       "      <td>Kharif</td>\n",
       "      <td>Arhar/Tur</td>\n",
       "      <td>2200.0</td>\n",
       "      <td>800.0</td>\n",
       "    </tr>\n",
       "    <tr>\n",
       "      <th>1</th>\n",
       "      <td>191621.0</td>\n",
       "      <td>Telangana</td>\n",
       "      <td>NIZAMABAD</td>\n",
       "      <td>1998.0</td>\n",
       "      <td>Kharif</td>\n",
       "      <td>Castor seed</td>\n",
       "      <td>200.0</td>\n",
       "      <td>100.0</td>\n",
       "    </tr>\n",
       "    <tr>\n",
       "      <th>2</th>\n",
       "      <td>191622.0</td>\n",
       "      <td>Telangana</td>\n",
       "      <td>NIZAMABAD</td>\n",
       "      <td>1998.0</td>\n",
       "      <td>Kharif</td>\n",
       "      <td>Cotton(lint)</td>\n",
       "      <td>20000.0</td>\n",
       "      <td>28500.0</td>\n",
       "    </tr>\n",
       "    <tr>\n",
       "      <th>3</th>\n",
       "      <td>191623.0</td>\n",
       "      <td>Telangana</td>\n",
       "      <td>NIZAMABAD</td>\n",
       "      <td>1998.0</td>\n",
       "      <td>Kharif</td>\n",
       "      <td>Groundnut</td>\n",
       "      <td>300.0</td>\n",
       "      <td>400.0</td>\n",
       "    </tr>\n",
       "    <tr>\n",
       "      <th>4</th>\n",
       "      <td>191624.0</td>\n",
       "      <td>Telangana</td>\n",
       "      <td>NIZAMABAD</td>\n",
       "      <td>1998.0</td>\n",
       "      <td>Kharif</td>\n",
       "      <td>Jowar</td>\n",
       "      <td>3400.0</td>\n",
       "      <td>2000.0</td>\n",
       "    </tr>\n",
       "  </tbody>\n",
       "</table>\n",
       "</div>"
      ],
      "text/plain": [
       "        Sno State_Name District_Name  Crop_Year  Season          Crop  \\\n",
       "0  191620.0  Telangana     NIZAMABAD     1998.0  Kharif     Arhar/Tur   \n",
       "1  191621.0  Telangana     NIZAMABAD     1998.0  Kharif   Castor seed   \n",
       "2  191622.0  Telangana     NIZAMABAD     1998.0  Kharif  Cotton(lint)   \n",
       "3  191623.0  Telangana     NIZAMABAD     1998.0  Kharif     Groundnut   \n",
       "4  191624.0  Telangana     NIZAMABAD     1998.0  Kharif         Jowar   \n",
       "\n",
       "      Area  Production  \n",
       "0   2200.0       800.0  \n",
       "1    200.0       100.0  \n",
       "2  20000.0     28500.0  \n",
       "3    300.0       400.0  \n",
       "4   3400.0      2000.0  "
      ]
     },
     "execution_count": 11,
     "metadata": {},
     "output_type": "execute_result"
    }
   ],
   "source": [
    "df2.columns=['Sno','State_Name','District_Name','Crop_Year','Season','Crop','Area','Production']\n",
    "df2.head()"
   ]
  },
  {
   "cell_type": "code",
   "execution_count": 12,
   "metadata": {},
   "outputs": [
    {
     "data": {
      "text/plain": [
       "(191619, 8)"
      ]
     },
     "execution_count": 12,
     "metadata": {},
     "output_type": "execute_result"
    }
   ],
   "source": [
    "df1.shape"
   ]
  },
  {
   "cell_type": "code",
   "execution_count": 13,
   "metadata": {},
   "outputs": [
    {
     "data": {
      "text/plain": [
       "(191619, 8)"
      ]
     },
     "execution_count": 13,
     "metadata": {},
     "output_type": "execute_result"
    }
   ],
   "source": [
    "df2.shape"
   ]
  },
  {
   "cell_type": "markdown",
   "metadata": {},
   "source": [
    "### Analyzing null elements in the first dataset"
   ]
  },
  {
   "cell_type": "code",
   "execution_count": 14,
   "metadata": {},
   "outputs": [
    {
     "data": {
      "text/plain": [
       "Sno              0.000000\n",
       "State_Name       0.000000\n",
       "District_Name    0.000000\n",
       "Crop_Year        0.000000\n",
       "Season           0.000000\n",
       "Crop             0.000000\n",
       "Area             0.000000\n",
       "Production       0.018119\n",
       "dtype: float64"
      ]
     },
     "execution_count": 14,
     "metadata": {},
     "output_type": "execute_result"
    }
   ],
   "source": [
    "df1.isnull().sum()/df1.shape[0]"
   ]
  },
  {
   "cell_type": "markdown",
   "metadata": {},
   "source": [
    "### Analyzing the null elements of the second dataset"
   ]
  },
  {
   "cell_type": "code",
   "execution_count": 15,
   "metadata": {},
   "outputs": [
    {
     "data": {
      "text/plain": [
       "Sno              0.715728\n",
       "State_Name       0.715728\n",
       "District_Name    0.715728\n",
       "Crop_Year        0.715728\n",
       "Season           0.715728\n",
       "Crop             0.715728\n",
       "Area             0.715728\n",
       "Production       0.717074\n",
       "dtype: float64"
      ]
     },
     "execution_count": 15,
     "metadata": {},
     "output_type": "execute_result"
    }
   ],
   "source": [
    "df2.isnull().sum()/df2.shape[0]"
   ]
  },
  {
   "cell_type": "markdown",
   "metadata": {},
   "source": [
    "### Dropping all the rows which have entry as null element"
   ]
  },
  {
   "cell_type": "code",
   "execution_count": 16,
   "metadata": {},
   "outputs": [],
   "source": [
    "df2=df2.dropna(axis=0,how='all')"
   ]
  },
  {
   "cell_type": "code",
   "execution_count": 17,
   "metadata": {},
   "outputs": [
    {
     "data": {
      "text/plain": [
       "Sno              0.000000\n",
       "State_Name       0.000000\n",
       "District_Name    0.000000\n",
       "Crop_Year        0.000000\n",
       "Season           0.000000\n",
       "Crop             0.000000\n",
       "Area             0.000000\n",
       "Production       0.004736\n",
       "dtype: float64"
      ]
     },
     "execution_count": 17,
     "metadata": {},
     "output_type": "execute_result"
    }
   ],
   "source": [
    "df2.isnull().sum()/df2.shape[0]"
   ]
  },
  {
   "cell_type": "code",
   "execution_count": 18,
   "metadata": {},
   "outputs": [
    {
     "data": {
      "text/plain": [
       "(54472, 8)"
      ]
     },
     "execution_count": 18,
     "metadata": {},
     "output_type": "execute_result"
    }
   ],
   "source": [
    "df2.shape"
   ]
  },
  {
   "cell_type": "markdown",
   "metadata": {},
   "source": [
    "### Now we concat the two datasets "
   ]
  },
  {
   "cell_type": "code",
   "execution_count": 19,
   "metadata": {},
   "outputs": [
    {
     "data": {
      "text/html": [
       "<div>\n",
       "<style scoped>\n",
       "    .dataframe tbody tr th:only-of-type {\n",
       "        vertical-align: middle;\n",
       "    }\n",
       "\n",
       "    .dataframe tbody tr th {\n",
       "        vertical-align: top;\n",
       "    }\n",
       "\n",
       "    .dataframe thead th {\n",
       "        text-align: right;\n",
       "    }\n",
       "</style>\n",
       "<table border=\"1\" class=\"dataframe\">\n",
       "  <thead>\n",
       "    <tr style=\"text-align: right;\">\n",
       "      <th></th>\n",
       "      <th>Sno</th>\n",
       "      <th>State_Name</th>\n",
       "      <th>District_Name</th>\n",
       "      <th>Crop_Year</th>\n",
       "      <th>Season</th>\n",
       "      <th>Crop</th>\n",
       "      <th>Area</th>\n",
       "      <th>Production</th>\n",
       "    </tr>\n",
       "  </thead>\n",
       "  <tbody>\n",
       "    <tr>\n",
       "      <th>0</th>\n",
       "      <td>1.0</td>\n",
       "      <td>Andaman and Nicobar Islands</td>\n",
       "      <td>NICOBARS</td>\n",
       "      <td>2000.0</td>\n",
       "      <td>Kharif</td>\n",
       "      <td>Arecanut</td>\n",
       "      <td>1254.0</td>\n",
       "      <td>2000.0</td>\n",
       "    </tr>\n",
       "    <tr>\n",
       "      <th>1</th>\n",
       "      <td>2.0</td>\n",
       "      <td>Andaman and Nicobar Islands</td>\n",
       "      <td>NICOBARS</td>\n",
       "      <td>2000.0</td>\n",
       "      <td>Kharif</td>\n",
       "      <td>Other Kharif pulses</td>\n",
       "      <td>2.0</td>\n",
       "      <td>1.0</td>\n",
       "    </tr>\n",
       "    <tr>\n",
       "      <th>2</th>\n",
       "      <td>3.0</td>\n",
       "      <td>Andaman and Nicobar Islands</td>\n",
       "      <td>NICOBARS</td>\n",
       "      <td>2000.0</td>\n",
       "      <td>Kharif</td>\n",
       "      <td>Rice</td>\n",
       "      <td>102.0</td>\n",
       "      <td>321.0</td>\n",
       "    </tr>\n",
       "    <tr>\n",
       "      <th>3</th>\n",
       "      <td>4.0</td>\n",
       "      <td>Andaman and Nicobar Islands</td>\n",
       "      <td>NICOBARS</td>\n",
       "      <td>2000.0</td>\n",
       "      <td>Whole Year</td>\n",
       "      <td>Banana</td>\n",
       "      <td>176.0</td>\n",
       "      <td>641.0</td>\n",
       "    </tr>\n",
       "    <tr>\n",
       "      <th>4</th>\n",
       "      <td>5.0</td>\n",
       "      <td>Andaman and Nicobar Islands</td>\n",
       "      <td>NICOBARS</td>\n",
       "      <td>2000.0</td>\n",
       "      <td>Whole Year</td>\n",
       "      <td>Cashewnut</td>\n",
       "      <td>720.0</td>\n",
       "      <td>165.0</td>\n",
       "    </tr>\n",
       "  </tbody>\n",
       "</table>\n",
       "</div>"
      ],
      "text/plain": [
       "   Sno                   State_Name District_Name  Crop_Year      Season  \\\n",
       "0  1.0  Andaman and Nicobar Islands      NICOBARS     2000.0      Kharif   \n",
       "1  2.0  Andaman and Nicobar Islands      NICOBARS     2000.0      Kharif   \n",
       "2  3.0  Andaman and Nicobar Islands      NICOBARS     2000.0      Kharif   \n",
       "3  4.0  Andaman and Nicobar Islands      NICOBARS     2000.0  Whole Year   \n",
       "4  5.0  Andaman and Nicobar Islands      NICOBARS     2000.0  Whole Year   \n",
       "\n",
       "                  Crop    Area  Production  \n",
       "0             Arecanut  1254.0      2000.0  \n",
       "1  Other Kharif pulses     2.0         1.0  \n",
       "2                 Rice   102.0       321.0  \n",
       "3               Banana   176.0       641.0  \n",
       "4            Cashewnut   720.0       165.0  "
      ]
     },
     "execution_count": 19,
     "metadata": {},
     "output_type": "execute_result"
    }
   ],
   "source": [
    "df=pd.concat([df1,df2])\n",
    "del df1, df2\n",
    "df.head()"
   ]
  },
  {
   "cell_type": "code",
   "execution_count": 20,
   "metadata": {},
   "outputs": [
    {
     "data": {
      "text/plain": [
       "(246091, 8)"
      ]
     },
     "execution_count": 20,
     "metadata": {},
     "output_type": "execute_result"
    }
   ],
   "source": [
    "df.shape"
   ]
  },
  {
   "cell_type": "code",
   "execution_count": 21,
   "metadata": {},
   "outputs": [],
   "source": [
    "df.to_csv('cleaned_Dataset_Crop_production.csv')"
   ]
  },
  {
   "cell_type": "code",
   "execution_count": 22,
   "metadata": {},
   "outputs": [
    {
     "data": {
      "text/plain": [
       "Sno              0.000000\n",
       "State_Name       0.000000\n",
       "District_Name    0.000000\n",
       "Crop_Year        0.000000\n",
       "Season           0.000000\n",
       "Crop             0.000000\n",
       "Area             0.000000\n",
       "Production       0.015157\n",
       "dtype: float64"
      ]
     },
     "execution_count": 22,
     "metadata": {},
     "output_type": "execute_result"
    }
   ],
   "source": [
    "# Understnding the null elements of the combined dataset\n",
    "df.isnull().sum()/df.shape[0]"
   ]
  },
  {
   "cell_type": "code",
   "execution_count": 23,
   "metadata": {},
   "outputs": [
    {
     "data": {
      "text/html": [
       "<div>\n",
       "<style scoped>\n",
       "    .dataframe tbody tr th:only-of-type {\n",
       "        vertical-align: middle;\n",
       "    }\n",
       "\n",
       "    .dataframe tbody tr th {\n",
       "        vertical-align: top;\n",
       "    }\n",
       "\n",
       "    .dataframe thead th {\n",
       "        text-align: right;\n",
       "    }\n",
       "</style>\n",
       "<table border=\"1\" class=\"dataframe\">\n",
       "  <thead>\n",
       "    <tr style=\"text-align: right;\">\n",
       "      <th></th>\n",
       "      <th>Sno</th>\n",
       "      <th>State_Name</th>\n",
       "      <th>District_Name</th>\n",
       "      <th>Crop_Year</th>\n",
       "      <th>Season</th>\n",
       "      <th>Crop</th>\n",
       "      <th>Area</th>\n",
       "      <th>Production</th>\n",
       "    </tr>\n",
       "  </thead>\n",
       "  <tbody>\n",
       "    <tr>\n",
       "      <th>95</th>\n",
       "      <td>96.0</td>\n",
       "      <td>Andaman and Nicobar Islands</td>\n",
       "      <td>NICOBARS</td>\n",
       "      <td>2005.0</td>\n",
       "      <td>Whole Year</td>\n",
       "      <td>Arecanut</td>\n",
       "      <td>795.67</td>\n",
       "      <td>NaN</td>\n",
       "    </tr>\n",
       "    <tr>\n",
       "      <th>100</th>\n",
       "      <td>101.0</td>\n",
       "      <td>Andaman and Nicobar Islands</td>\n",
       "      <td>NICOBARS</td>\n",
       "      <td>2005.0</td>\n",
       "      <td>Whole Year</td>\n",
       "      <td>Dry chillies</td>\n",
       "      <td>17.00</td>\n",
       "      <td>NaN</td>\n",
       "    </tr>\n",
       "    <tr>\n",
       "      <th>672</th>\n",
       "      <td>673.0</td>\n",
       "      <td>Andhra Pradesh</td>\n",
       "      <td>KADAPA</td>\n",
       "      <td>1998.0</td>\n",
       "      <td>Rabi</td>\n",
       "      <td>Wheat</td>\n",
       "      <td>100.00</td>\n",
       "      <td>NaN</td>\n",
       "    </tr>\n",
       "    <tr>\n",
       "      <th>708</th>\n",
       "      <td>709.0</td>\n",
       "      <td>Andhra Pradesh</td>\n",
       "      <td>KURNOOL</td>\n",
       "      <td>1998.0</td>\n",
       "      <td>Kharif</td>\n",
       "      <td>Other Kharif pulses</td>\n",
       "      <td>100.00</td>\n",
       "      <td>NaN</td>\n",
       "    </tr>\n",
       "    <tr>\n",
       "      <th>710</th>\n",
       "      <td>711.0</td>\n",
       "      <td>Andhra Pradesh</td>\n",
       "      <td>KURNOOL</td>\n",
       "      <td>1998.0</td>\n",
       "      <td>Kharif</td>\n",
       "      <td>Sesamum</td>\n",
       "      <td>100.00</td>\n",
       "      <td>NaN</td>\n",
       "    </tr>\n",
       "    <tr>\n",
       "      <th>...</th>\n",
       "      <td>...</td>\n",
       "      <td>...</td>\n",
       "      <td>...</td>\n",
       "      <td>...</td>\n",
       "      <td>...</td>\n",
       "      <td>...</td>\n",
       "      <td>...</td>\n",
       "      <td>...</td>\n",
       "    </tr>\n",
       "    <tr>\n",
       "      <th>51216</th>\n",
       "      <td>242836.0</td>\n",
       "      <td>West Bengal</td>\n",
       "      <td>HOOGHLY</td>\n",
       "      <td>2008.0</td>\n",
       "      <td>Rabi</td>\n",
       "      <td>Arhar/Tur</td>\n",
       "      <td>1.00</td>\n",
       "      <td>NaN</td>\n",
       "    </tr>\n",
       "    <tr>\n",
       "      <th>51490</th>\n",
       "      <td>243110.0</td>\n",
       "      <td>West Bengal</td>\n",
       "      <td>PURULIA</td>\n",
       "      <td>2008.0</td>\n",
       "      <td>Rabi</td>\n",
       "      <td>Khesari</td>\n",
       "      <td>2.00</td>\n",
       "      <td>NaN</td>\n",
       "    </tr>\n",
       "    <tr>\n",
       "      <th>51567</th>\n",
       "      <td>243187.0</td>\n",
       "      <td>West Bengal</td>\n",
       "      <td>BANKURA</td>\n",
       "      <td>2009.0</td>\n",
       "      <td>Kharif</td>\n",
       "      <td>Urad</td>\n",
       "      <td>2.00</td>\n",
       "      <td>NaN</td>\n",
       "    </tr>\n",
       "    <tr>\n",
       "      <th>52398</th>\n",
       "      <td>244018.0</td>\n",
       "      <td>West Bengal</td>\n",
       "      <td>MEDINIPUR WEST</td>\n",
       "      <td>2010.0</td>\n",
       "      <td>Rabi</td>\n",
       "      <td>Peas &amp; beans (Pulses)</td>\n",
       "      <td>2.00</td>\n",
       "      <td>NaN</td>\n",
       "    </tr>\n",
       "    <tr>\n",
       "      <th>53051</th>\n",
       "      <td>244671.0</td>\n",
       "      <td>West Bengal</td>\n",
       "      <td>BANKURA</td>\n",
       "      <td>2012.0</td>\n",
       "      <td>Rabi</td>\n",
       "      <td>Linseed</td>\n",
       "      <td>1.00</td>\n",
       "      <td>NaN</td>\n",
       "    </tr>\n",
       "  </tbody>\n",
       "</table>\n",
       "<p>3730 rows × 8 columns</p>\n",
       "</div>"
      ],
      "text/plain": [
       "            Sno                   State_Name   District_Name  Crop_Year  \\\n",
       "95         96.0  Andaman and Nicobar Islands        NICOBARS     2005.0   \n",
       "100       101.0  Andaman and Nicobar Islands        NICOBARS     2005.0   \n",
       "672       673.0               Andhra Pradesh          KADAPA     1998.0   \n",
       "708       709.0               Andhra Pradesh         KURNOOL     1998.0   \n",
       "710       711.0               Andhra Pradesh         KURNOOL     1998.0   \n",
       "...         ...                          ...             ...        ...   \n",
       "51216  242836.0                  West Bengal         HOOGHLY     2008.0   \n",
       "51490  243110.0                  West Bengal         PURULIA     2008.0   \n",
       "51567  243187.0                  West Bengal         BANKURA     2009.0   \n",
       "52398  244018.0                  West Bengal  MEDINIPUR WEST     2010.0   \n",
       "53051  244671.0                  West Bengal         BANKURA     2012.0   \n",
       "\n",
       "           Season                   Crop    Area  Production  \n",
       "95     Whole Year               Arecanut  795.67         NaN  \n",
       "100    Whole Year           Dry chillies   17.00         NaN  \n",
       "672          Rabi                  Wheat  100.00         NaN  \n",
       "708        Kharif    Other Kharif pulses  100.00         NaN  \n",
       "710        Kharif                Sesamum  100.00         NaN  \n",
       "...           ...                    ...     ...         ...  \n",
       "51216        Rabi              Arhar/Tur    1.00         NaN  \n",
       "51490        Rabi                Khesari    2.00         NaN  \n",
       "51567      Kharif                   Urad    2.00         NaN  \n",
       "52398        Rabi  Peas & beans (Pulses)    2.00         NaN  \n",
       "53051        Rabi                Linseed    1.00         NaN  \n",
       "\n",
       "[3730 rows x 8 columns]"
      ]
     },
     "execution_count": 23,
     "metadata": {},
     "output_type": "execute_result"
    }
   ],
   "source": [
    "df[df.isnull().any(axis=1)]"
   ]
  },
  {
   "cell_type": "code",
   "execution_count": 24,
   "metadata": {},
   "outputs": [
    {
     "data": {
      "text/plain": [
       "array([2000., 2001., 2002., 2003., 2004., 2005., 2006., 2010., 1997.,\n",
       "       1998., 1999., 2007., 2008., 2009., 2011., 2012., 2013., 2014.,\n",
       "       2015.])"
      ]
     },
     "execution_count": 24,
     "metadata": {},
     "output_type": "execute_result"
    }
   ],
   "source": [
    "df['Crop_Year'].unique()"
   ]
  },
  {
   "cell_type": "code",
   "execution_count": 25,
   "metadata": {},
   "outputs": [
    {
     "data": {
      "text/plain": [
       "array(['Kharif', 'Whole Year', 'Autumn', 'Rabi', 'Summer', 'Winter'],\n",
       "      dtype=object)"
      ]
     },
     "execution_count": 25,
     "metadata": {},
     "output_type": "execute_result"
    }
   ],
   "source": [
    "df['Season'].unique()"
   ]
  },
  {
   "cell_type": "markdown",
   "metadata": {},
   "source": [
    "### The part of the null of elements in the production column is replaced by the mean value of the production of the particular crop in that particular district. "
   ]
  },
  {
   "cell_type": "code",
   "execution_count": 26,
   "metadata": {},
   "outputs": [],
   "source": [
    "df['Production']=df['Production'].fillna(round(df.groupby(['State_Name','District_Name','Crop'])\\\n",
    "                              ['Production'].transform('mean'),2))"
   ]
  },
  {
   "cell_type": "code",
   "execution_count": 27,
   "metadata": {},
   "outputs": [],
   "source": [
    "#df[(df['State_Name']=='Andaman and Nicobar Islands') & (df['District_Name']==\"NICOBARS\")\\\n",
    "#   & (df['Crop']=='Arecanut')]"
   ]
  },
  {
   "cell_type": "code",
   "execution_count": 28,
   "metadata": {},
   "outputs": [],
   "source": [
    "#round(df[(df['State_Name']=='Andaman and Nicobar Islands') & (df['District_Name']==\"NICOBARS\")\\\n",
    "#   & (df['Crop']=='Arecanut')][\"Production\"].mean(),2)"
   ]
  },
  {
   "cell_type": "code",
   "execution_count": 29,
   "metadata": {},
   "outputs": [
    {
     "data": {
      "text/plain": [
       "Sno              0.000000\n",
       "State_Name       0.000000\n",
       "District_Name    0.000000\n",
       "Crop_Year        0.000000\n",
       "Season           0.000000\n",
       "Crop             0.000000\n",
       "Area             0.000000\n",
       "Production       0.002081\n",
       "dtype: float64"
      ]
     },
     "execution_count": 29,
     "metadata": {},
     "output_type": "execute_result"
    }
   ],
   "source": [
    "df.isnull().sum()/df.shape[0]"
   ]
  },
  {
   "cell_type": "code",
   "execution_count": 30,
   "metadata": {},
   "outputs": [
    {
     "data": {
      "text/html": [
       "<div>\n",
       "<style scoped>\n",
       "    .dataframe tbody tr th:only-of-type {\n",
       "        vertical-align: middle;\n",
       "    }\n",
       "\n",
       "    .dataframe tbody tr th {\n",
       "        vertical-align: top;\n",
       "    }\n",
       "\n",
       "    .dataframe thead th {\n",
       "        text-align: right;\n",
       "    }\n",
       "</style>\n",
       "<table border=\"1\" class=\"dataframe\">\n",
       "  <thead>\n",
       "    <tr style=\"text-align: right;\">\n",
       "      <th></th>\n",
       "      <th>Sno</th>\n",
       "      <th>State_Name</th>\n",
       "      <th>District_Name</th>\n",
       "      <th>Crop_Year</th>\n",
       "      <th>Season</th>\n",
       "      <th>Crop</th>\n",
       "      <th>Area</th>\n",
       "      <th>Production</th>\n",
       "    </tr>\n",
       "  </thead>\n",
       "  <tbody>\n",
       "    <tr>\n",
       "      <th>1707</th>\n",
       "      <td>1708.0</td>\n",
       "      <td>Andhra Pradesh</td>\n",
       "      <td>SRIKAKULAM</td>\n",
       "      <td>2000.0</td>\n",
       "      <td>Rabi</td>\n",
       "      <td>Safflower</td>\n",
       "      <td>2.0</td>\n",
       "      <td>NaN</td>\n",
       "    </tr>\n",
       "    <tr>\n",
       "      <th>6185</th>\n",
       "      <td>6186.0</td>\n",
       "      <td>Andhra Pradesh</td>\n",
       "      <td>ANANTAPUR</td>\n",
       "      <td>2009.0</td>\n",
       "      <td>Rabi</td>\n",
       "      <td>Rapeseed &amp;Mustard</td>\n",
       "      <td>8.0</td>\n",
       "      <td>NaN</td>\n",
       "    </tr>\n",
       "    <tr>\n",
       "      <th>6640</th>\n",
       "      <td>6641.0</td>\n",
       "      <td>Andhra Pradesh</td>\n",
       "      <td>WEST GODAVARI</td>\n",
       "      <td>2009.0</td>\n",
       "      <td>Kharif</td>\n",
       "      <td>Soyabean</td>\n",
       "      <td>5.0</td>\n",
       "      <td>NaN</td>\n",
       "    </tr>\n",
       "    <tr>\n",
       "      <th>8561</th>\n",
       "      <td>8562.0</td>\n",
       "      <td>Andhra Pradesh</td>\n",
       "      <td>EAST GODAVARI</td>\n",
       "      <td>2013.0</td>\n",
       "      <td>Whole Year</td>\n",
       "      <td>Sannhamp</td>\n",
       "      <td>175.0</td>\n",
       "      <td>NaN</td>\n",
       "    </tr>\n",
       "    <tr>\n",
       "      <th>8615</th>\n",
       "      <td>8616.0</td>\n",
       "      <td>Andhra Pradesh</td>\n",
       "      <td>GUNTUR</td>\n",
       "      <td>2013.0</td>\n",
       "      <td>Whole Year</td>\n",
       "      <td>Sannhamp</td>\n",
       "      <td>2594.0</td>\n",
       "      <td>NaN</td>\n",
       "    </tr>\n",
       "    <tr>\n",
       "      <th>...</th>\n",
       "      <td>...</td>\n",
       "      <td>...</td>\n",
       "      <td>...</td>\n",
       "      <td>...</td>\n",
       "      <td>...</td>\n",
       "      <td>...</td>\n",
       "      <td>...</td>\n",
       "      <td>...</td>\n",
       "    </tr>\n",
       "    <tr>\n",
       "      <th>40757</th>\n",
       "      <td>232377.0</td>\n",
       "      <td>Uttarakhand</td>\n",
       "      <td>HARIDWAR</td>\n",
       "      <td>2002.0</td>\n",
       "      <td>Whole Year</td>\n",
       "      <td>Garlic</td>\n",
       "      <td>3.0</td>\n",
       "      <td>NaN</td>\n",
       "    </tr>\n",
       "    <tr>\n",
       "      <th>41088</th>\n",
       "      <td>232708.0</td>\n",
       "      <td>Uttarakhand</td>\n",
       "      <td>HARIDWAR</td>\n",
       "      <td>2003.0</td>\n",
       "      <td>Whole Year</td>\n",
       "      <td>Garlic</td>\n",
       "      <td>1.0</td>\n",
       "      <td>NaN</td>\n",
       "    </tr>\n",
       "    <tr>\n",
       "      <th>41877</th>\n",
       "      <td>233497.0</td>\n",
       "      <td>Uttarakhand</td>\n",
       "      <td>ALMORA</td>\n",
       "      <td>2006.0</td>\n",
       "      <td>Whole Year</td>\n",
       "      <td>Tobacco</td>\n",
       "      <td>1.0</td>\n",
       "      <td>NaN</td>\n",
       "    </tr>\n",
       "    <tr>\n",
       "      <th>42201</th>\n",
       "      <td>233821.0</td>\n",
       "      <td>Uttarakhand</td>\n",
       "      <td>ALMORA</td>\n",
       "      <td>2007.0</td>\n",
       "      <td>Rabi</td>\n",
       "      <td>Other Rabi pulses</td>\n",
       "      <td>1.0</td>\n",
       "      <td>NaN</td>\n",
       "    </tr>\n",
       "    <tr>\n",
       "      <th>44372</th>\n",
       "      <td>235992.0</td>\n",
       "      <td>Uttarakhand</td>\n",
       "      <td>UDAM SINGH NAGAR</td>\n",
       "      <td>2013.0</td>\n",
       "      <td>Kharif</td>\n",
       "      <td>Moth</td>\n",
       "      <td>1.0</td>\n",
       "      <td>NaN</td>\n",
       "    </tr>\n",
       "  </tbody>\n",
       "</table>\n",
       "<p>512 rows × 8 columns</p>\n",
       "</div>"
      ],
      "text/plain": [
       "            Sno      State_Name     District_Name  Crop_Year      Season  \\\n",
       "1707     1708.0  Andhra Pradesh        SRIKAKULAM     2000.0        Rabi   \n",
       "6185     6186.0  Andhra Pradesh         ANANTAPUR     2009.0        Rabi   \n",
       "6640     6641.0  Andhra Pradesh     WEST GODAVARI     2009.0      Kharif   \n",
       "8561     8562.0  Andhra Pradesh     EAST GODAVARI     2013.0  Whole Year   \n",
       "8615     8616.0  Andhra Pradesh            GUNTUR     2013.0  Whole Year   \n",
       "...         ...             ...               ...        ...         ...   \n",
       "40757  232377.0     Uttarakhand          HARIDWAR     2002.0  Whole Year   \n",
       "41088  232708.0     Uttarakhand          HARIDWAR     2003.0  Whole Year   \n",
       "41877  233497.0     Uttarakhand            ALMORA     2006.0  Whole Year   \n",
       "42201  233821.0     Uttarakhand            ALMORA     2007.0        Rabi   \n",
       "44372  235992.0     Uttarakhand  UDAM SINGH NAGAR     2013.0      Kharif   \n",
       "\n",
       "                    Crop    Area  Production  \n",
       "1707           Safflower     2.0         NaN  \n",
       "6185   Rapeseed &Mustard     8.0         NaN  \n",
       "6640            Soyabean     5.0         NaN  \n",
       "8561            Sannhamp   175.0         NaN  \n",
       "8615            Sannhamp  2594.0         NaN  \n",
       "...                  ...     ...         ...  \n",
       "40757             Garlic     3.0         NaN  \n",
       "41088             Garlic     1.0         NaN  \n",
       "41877            Tobacco     1.0         NaN  \n",
       "42201  Other Rabi pulses     1.0         NaN  \n",
       "44372               Moth     1.0         NaN  \n",
       "\n",
       "[512 rows x 8 columns]"
      ]
     },
     "execution_count": 30,
     "metadata": {},
     "output_type": "execute_result"
    }
   ],
   "source": [
    "df[df.isnull().any(axis=1)]"
   ]
  },
  {
   "cell_type": "markdown",
   "metadata": {},
   "source": [
    "### As there is only 0.2% of null entries remaining, which is a very small percentage, therefore I drop those particular rows. "
   ]
  },
  {
   "cell_type": "code",
   "execution_count": 31,
   "metadata": {},
   "outputs": [],
   "source": [
    "df=df.dropna(axis=0,how='any')"
   ]
  },
  {
   "cell_type": "code",
   "execution_count": 32,
   "metadata": {},
   "outputs": [
    {
     "data": {
      "text/plain": [
       "Sno              0.0\n",
       "State_Name       0.0\n",
       "District_Name    0.0\n",
       "Crop_Year        0.0\n",
       "Season           0.0\n",
       "Crop             0.0\n",
       "Area             0.0\n",
       "Production       0.0\n",
       "dtype: float64"
      ]
     },
     "execution_count": 32,
     "metadata": {},
     "output_type": "execute_result"
    }
   ],
   "source": [
    "df.isnull().sum()/df.shape[0]"
   ]
  },
  {
   "cell_type": "code",
   "execution_count": 33,
   "metadata": {},
   "outputs": [],
   "source": [
    "# Now we save the modified and cleaned dataset for future use.\n",
    "df.to_csv('modified_cleaned_Dataset_Crop_production.csv')"
   ]
  },
  {
   "cell_type": "code",
   "execution_count": 34,
   "metadata": {},
   "outputs": [
    {
     "data": {
      "text/plain": [
       "['Apple',\n",
       " 'Arcanut (Processed)',\n",
       " 'Arecanut',\n",
       " 'Arhar/Tur',\n",
       " 'Ash Gourd',\n",
       " 'Atcanut (Raw)',\n",
       " 'Bajra',\n",
       " 'Banana',\n",
       " 'Barley',\n",
       " 'Bean',\n",
       " 'Beans & Mutter(Vegetable)',\n",
       " 'Beet Root',\n",
       " 'Ber',\n",
       " 'Bhindi',\n",
       " 'Bitter Gourd',\n",
       " 'Black pepper',\n",
       " 'Blackgram',\n",
       " 'Bottle Gourd',\n",
       " 'Brinjal',\n",
       " 'Cabbage',\n",
       " 'Cardamom',\n",
       " 'Carrot',\n",
       " 'Cashewnut',\n",
       " 'Cashewnut Processed',\n",
       " 'Cashewnut Raw',\n",
       " 'Castor seed',\n",
       " 'Cauliflower',\n",
       " 'Citrus Fruit',\n",
       " 'Coconut',\n",
       " 'Coffee',\n",
       " 'Colocosia',\n",
       " 'Cond-spcs other',\n",
       " 'Coriander',\n",
       " 'Cotton(lint)',\n",
       " 'Cowpea(Lobia)',\n",
       " 'Cucumber',\n",
       " 'Drum Stick',\n",
       " 'Dry chillies',\n",
       " 'Dry ginger',\n",
       " 'Garlic',\n",
       " 'Ginger',\n",
       " 'Gram',\n",
       " 'Grapes',\n",
       " 'Groundnut',\n",
       " 'Guar seed',\n",
       " 'Horse-gram',\n",
       " 'Jack Fruit',\n",
       " 'Jobster',\n",
       " 'Jowar',\n",
       " 'Jute',\n",
       " 'Jute & mesta',\n",
       " 'Kapas',\n",
       " 'Khesari',\n",
       " 'Korra',\n",
       " 'Lab-Lab',\n",
       " 'Lemon',\n",
       " 'Lentil',\n",
       " 'Linseed',\n",
       " 'Litchi',\n",
       " 'Maize',\n",
       " 'Mango',\n",
       " 'Masoor',\n",
       " 'Mesta',\n",
       " 'Moong(Green Gram)',\n",
       " 'Moth',\n",
       " 'Niger seed',\n",
       " 'Oilseeds total',\n",
       " 'Onion',\n",
       " 'Orange',\n",
       " 'Other Cereals & Millets',\n",
       " 'Other Citrus Fruit',\n",
       " 'Other Dry Fruit',\n",
       " 'Other Fresh Fruits',\n",
       " 'Other Kharif pulses',\n",
       " 'Other Rabi pulses',\n",
       " 'Other Vegetables',\n",
       " 'Paddy',\n",
       " 'Papaya',\n",
       " 'Peach',\n",
       " 'Pear',\n",
       " 'Peas & beans (Pulses)',\n",
       " 'Peas (vegetable)',\n",
       " 'Perilla',\n",
       " 'Pineapple',\n",
       " 'Plums',\n",
       " 'Pome Fruit',\n",
       " 'Pome Granet',\n",
       " 'Potato',\n",
       " 'Pulses total',\n",
       " 'Pump Kin',\n",
       " 'Ragi',\n",
       " 'Rajmash Kholar',\n",
       " 'Rapeseed &Mustard',\n",
       " 'Redish',\n",
       " 'Ribed Guard',\n",
       " 'Rice',\n",
       " 'Ricebean (nagadal)',\n",
       " 'Rubber',\n",
       " 'Safflower',\n",
       " 'Samai',\n",
       " 'Sannhamp',\n",
       " 'Sapota',\n",
       " 'Sesamum',\n",
       " 'Small millets',\n",
       " 'Snak Guard',\n",
       " 'Soyabean',\n",
       " 'Sugarcane',\n",
       " 'Sunflower',\n",
       " 'Sweet potato',\n",
       " 'Tapioca',\n",
       " 'Tea',\n",
       " 'Tobacco',\n",
       " 'Tomato',\n",
       " 'Total foodgrain',\n",
       " 'Turmeric',\n",
       " 'Turnip',\n",
       " 'Urad',\n",
       " 'Varagu',\n",
       " 'Water Melon',\n",
       " 'Wheat',\n",
       " 'Yam',\n",
       " 'other fibres',\n",
       " 'other misc. pulses',\n",
       " 'other oilseeds']"
      ]
     },
     "execution_count": 34,
     "metadata": {},
     "output_type": "execute_result"
    }
   ],
   "source": [
    "sorted(df['Crop'].unique())"
   ]
  },
  {
   "cell_type": "markdown",
   "metadata": {},
   "source": [
    "## Problem statement and understanding section."
   ]
  },
  {
   "cell_type": "markdown",
   "metadata": {},
   "source": [
    "### Analysis of the primary staple crops of India, rice and wheat. Primarily between the years 1997-2014"
   ]
  },
  {
   "cell_type": "code",
   "execution_count": 35,
   "metadata": {},
   "outputs": [
    {
     "data": {
      "text/html": [
       "<div>\n",
       "<style scoped>\n",
       "    .dataframe tbody tr th:only-of-type {\n",
       "        vertical-align: middle;\n",
       "    }\n",
       "\n",
       "    .dataframe tbody tr th {\n",
       "        vertical-align: top;\n",
       "    }\n",
       "\n",
       "    .dataframe thead th {\n",
       "        text-align: right;\n",
       "    }\n",
       "</style>\n",
       "<table border=\"1\" class=\"dataframe\">\n",
       "  <thead>\n",
       "    <tr style=\"text-align: right;\">\n",
       "      <th>Crop</th>\n",
       "      <th>Rice</th>\n",
       "      <th>Wheat</th>\n",
       "    </tr>\n",
       "    <tr>\n",
       "      <th>Crop_Year</th>\n",
       "      <th></th>\n",
       "      <th></th>\n",
       "    </tr>\n",
       "  </thead>\n",
       "  <tbody>\n",
       "    <tr>\n",
       "      <th>1997.0</th>\n",
       "      <td>65848504.0</td>\n",
       "      <td>63831633.00</td>\n",
       "    </tr>\n",
       "    <tr>\n",
       "      <th>1998.0</th>\n",
       "      <td>78761219.0</td>\n",
       "      <td>69699127.13</td>\n",
       "    </tr>\n",
       "    <tr>\n",
       "      <th>1999.0</th>\n",
       "      <td>77917065.6</td>\n",
       "      <td>75068369.00</td>\n",
       "    </tr>\n",
       "    <tr>\n",
       "      <th>2000.0</th>\n",
       "      <td>83092698.8</td>\n",
       "      <td>69487129.90</td>\n",
       "    </tr>\n",
       "    <tr>\n",
       "      <th>2001.0</th>\n",
       "      <td>90057868.0</td>\n",
       "      <td>72648949.15</td>\n",
       "    </tr>\n",
       "  </tbody>\n",
       "</table>\n",
       "</div>"
      ],
      "text/plain": [
       "Crop             Rice        Wheat\n",
       "Crop_Year                         \n",
       "1997.0     65848504.0  63831633.00\n",
       "1998.0     78761219.0  69699127.13\n",
       "1999.0     77917065.6  75068369.00\n",
       "2000.0     83092698.8  69487129.90\n",
       "2001.0     90057868.0  72648949.15"
      ]
     },
     "execution_count": 35,
     "metadata": {},
     "output_type": "execute_result"
    }
   ],
   "source": [
    "# Groupng the producing of rice and wheat yearwise\n",
    "x=df[df['Crop'].isin(['Rice','Wheat'])].groupby(['Crop_Year','Crop'])['Production'].sum().unstack()\n",
    "x.head()"
   ]
  },
  {
   "cell_type": "code",
   "execution_count": 36,
   "metadata": {},
   "outputs": [
    {
     "data": {
      "image/png": "[encoded data removed]",
      "text/plain": [
       "<Figure size 1080x504 with 1 Axes>"
      ]
     },
     "metadata": {
      "needs_background": "light"
     },
     "output_type": "display_data"
    }
   ],
   "source": [
    "fig, ax = plt.subplots(figsize=(15,7))\n",
    "x.plot(ax=ax,color=['red','blue'],marker='v')\n",
    "plt.xlim([1997,2014])\n",
    "plt.xlabel('Year',fontsize=18)\n",
    "plt.ylabel('Production',fontsize=18)\n",
    "plt.title('Study of time series progression of production of rice and wheat',fontsize=22)\n",
    "plt.savefig('Wheat_rice_production.png')"
   ]
  },
  {
   "cell_type": "markdown",
   "metadata": {},
   "source": [
    "#### Analysis of the above graph on the production of wheat and rice against the progression of time has been discussed below\n",
    "1. We observe that the wheat and rice production in India from year 1996 to end of 2001 has been increasing. After literature review we found that this trend was observed because of higher government grain subsidy outlays, and declining per capita consumption of wheat and rice. The detailed report of this observation can be found [here](https://www.ers.usda.gov/webdocs/publications/45802/11575_err41b_1_.pdf?v=0).\n",
    "2. From above graph we observe that there is drastic decline in the production of rice for the year 2002. The major factor due to which such a sharp decline was observed because decline in the surface water availability in  the southeastern coastal regions of India. More extensive discussion is given [here](https://www.mdpi.com/2072-4292/10/2/244).\n",
    "3. We also observe from the above figure that there is very sharp decline in the production of wheat in the year 2014. The primary reason behind this decline is poor monsoon and unseasonal rains in February-March. Read more about it [here](https://economictimes.indiatimes.com/news/economy/indicators/indias-foodgrain-output-fell-4-66-in-2014-15/articleshow/48515634.cms?utm_source=contentofinterest&utm_medium=text&utm_campaign=cppst).\n",
    "4. We also observe that overall the rice production has been increasing from the year 1997 to the year 2014. This made India one of the top exporters of rice in the whole world. Read more about it [here](https://journals.sagepub.com/doi/full/10.1177/2277976019851930)"
   ]
  },
  {
   "cell_type": "markdown",
   "metadata": {},
   "source": [
    "### Analyzing top 5 average producers of Wheat and rice between the years 1997-2014"
   ]
  },
  {
   "cell_type": "code",
   "execution_count": 37,
   "metadata": {},
   "outputs": [
    {
     "data": {
      "text/html": [
       "<div>\n",
       "<style scoped>\n",
       "    .dataframe tbody tr th:only-of-type {\n",
       "        vertical-align: middle;\n",
       "    }\n",
       "\n",
       "    .dataframe tbody tr th {\n",
       "        vertical-align: top;\n",
       "    }\n",
       "\n",
       "    .dataframe thead th {\n",
       "        text-align: right;\n",
       "    }\n",
       "</style>\n",
       "<table border=\"1\" class=\"dataframe\">\n",
       "  <thead>\n",
       "    <tr style=\"text-align: right;\">\n",
       "      <th></th>\n",
       "      <th>State_Name</th>\n",
       "      <th>Production</th>\n",
       "    </tr>\n",
       "  </thead>\n",
       "  <tbody>\n",
       "    <tr>\n",
       "      <th>24</th>\n",
       "      <td>Punjab</td>\n",
       "      <td>531662.721893</td>\n",
       "    </tr>\n",
       "    <tr>\n",
       "      <th>1</th>\n",
       "      <td>Andhra Pradesh</td>\n",
       "      <td>298840.862786</td>\n",
       "    </tr>\n",
       "    <tr>\n",
       "      <th>6</th>\n",
       "      <td>Chhattisgarh</td>\n",
       "      <td>277641.316769</td>\n",
       "    </tr>\n",
       "    <tr>\n",
       "      <th>32</th>\n",
       "      <td>West Bengal</td>\n",
       "      <td>266349.689370</td>\n",
       "    </tr>\n",
       "    <tr>\n",
       "      <th>28</th>\n",
       "      <td>Telangana</td>\n",
       "      <td>221072.447284</td>\n",
       "    </tr>\n",
       "  </tbody>\n",
       "</table>\n",
       "</div>"
      ],
      "text/plain": [
       "        State_Name     Production\n",
       "24          Punjab  531662.721893\n",
       "1   Andhra Pradesh  298840.862786\n",
       "6     Chhattisgarh  277641.316769\n",
       "32     West Bengal  266349.689370\n",
       "28       Telangana  221072.447284"
      ]
     },
     "execution_count": 37,
     "metadata": {},
     "output_type": "execute_result"
    }
   ],
   "source": [
    "# The calculating the mean value of each state for the production rice between the years 1997-2014\n",
    "x=df[(df['Crop']=='Rice') & (df['Crop_Year']<2015)].groupby(['State_Name'])['Production'].mean().reset_index()\\\n",
    ".sort_values(by=['Production'],ascending=False)\n",
    "\n",
    "x.head()"
   ]
  },
  {
   "cell_type": "code",
   "execution_count": 38,
   "metadata": {},
   "outputs": [
    {
     "data": {
      "image/png": "[encoded data removed]",
      "text/plain": [
       "<Figure size 1224x360 with 1 Axes>"
      ]
     },
     "metadata": {
      "needs_background": "light"
     },
     "output_type": "display_data"
    }
   ],
   "source": [
    "# Here plot the top 5 countries which highest number of mean rice production\n",
    "plt.figure(figsize = (17,5))\n",
    "plt.bar(x['State_Name'][0:5],\\\n",
    "            x['Production'][0:5], color=['red', 'yellow', 'black', 'blue', 'orange'])\n",
    "plt.xlabel('States',fontsize=18)\n",
    "plt.ylabel('Production of rice',fontsize=18)\n",
    "plt.title('Highest average rice producing states from year 1997-2014',fontsize=22)\n",
    "plt.savefig('top5_rice_producer.png')"
   ]
  },
  {
   "cell_type": "markdown",
   "metadata": {},
   "source": [
    "#### 5. The top average producers of rice from year 1997 to 2014 are, Punjab, Andhra Pradesh, West Bengal, Telangana"
   ]
  },
  {
   "cell_type": "code",
   "execution_count": 39,
   "metadata": {},
   "outputs": [
    {
     "data": {
      "text/html": [
       "<div>\n",
       "<style scoped>\n",
       "    .dataframe tbody tr th:only-of-type {\n",
       "        vertical-align: middle;\n",
       "    }\n",
       "\n",
       "    .dataframe tbody tr th {\n",
       "        vertical-align: top;\n",
       "    }\n",
       "\n",
       "    .dataframe thead th {\n",
       "        text-align: right;\n",
       "    }\n",
       "</style>\n",
       "<table border=\"1\" class=\"dataframe\">\n",
       "  <thead>\n",
       "    <tr style=\"text-align: right;\">\n",
       "      <th></th>\n",
       "      <th>State_Name</th>\n",
       "      <th>Production</th>\n",
       "    </tr>\n",
       "  </thead>\n",
       "  <tbody>\n",
       "    <tr>\n",
       "      <th>20</th>\n",
       "      <td>Punjab</td>\n",
       "      <td>819366.863905</td>\n",
       "    </tr>\n",
       "    <tr>\n",
       "      <th>8</th>\n",
       "      <td>Haryana</td>\n",
       "      <td>500463.722397</td>\n",
       "    </tr>\n",
       "    <tr>\n",
       "      <th>26</th>\n",
       "      <td>Uttar Pradesh</td>\n",
       "      <td>368558.235294</td>\n",
       "    </tr>\n",
       "    <tr>\n",
       "      <th>21</th>\n",
       "      <td>Rajasthan</td>\n",
       "      <td>209909.365854</td>\n",
       "    </tr>\n",
       "    <tr>\n",
       "      <th>14</th>\n",
       "      <td>Madhya Pradesh</td>\n",
       "      <td>183027.184080</td>\n",
       "    </tr>\n",
       "  </tbody>\n",
       "</table>\n",
       "</div>"
      ],
      "text/plain": [
       "        State_Name     Production\n",
       "20          Punjab  819366.863905\n",
       "8          Haryana  500463.722397\n",
       "26   Uttar Pradesh  368558.235294\n",
       "21       Rajasthan  209909.365854\n",
       "14  Madhya Pradesh  183027.184080"
      ]
     },
     "execution_count": 39,
     "metadata": {},
     "output_type": "execute_result"
    }
   ],
   "source": [
    "# The calculating the mean value of each state for the production wheat between the years 1997-2014\n",
    "x=df[(df['Crop']=='Wheat') & (df['Crop_Year']<2015)].groupby(['State_Name'])['Production'].mean().reset_index()\\\n",
    ".sort_values(by=['Production'],ascending=False)\n",
    "\n",
    "x.head()"
   ]
  },
  {
   "cell_type": "code",
   "execution_count": 40,
   "metadata": {},
   "outputs": [
    {
     "data": {
      "image/png": "[encoded data removed]",
      "text/plain": [
       "<Figure size 1224x360 with 1 Axes>"
      ]
     },
     "metadata": {
      "needs_background": "light"
     },
     "output_type": "display_data"
    }
   ],
   "source": [
    "# Here plot the top 5 countries which highest number of mean rice production\n",
    "plt.figure(figsize = (17,5))\n",
    "plt.bar(x['State_Name'][0:5],\\\n",
    "            x['Production'][0:5], color=['red', 'blue', 'black', 'magenta', 'yellow'])\n",
    "plt.xlabel('States',fontsize=18)\n",
    "plt.ylabel('Production of Wheat',fontsize=18)\n",
    "plt.title('Highest average wheat producing states from year 1997-2014',fontsize=22)\n",
    "plt.savefig('top5_wheat_producer.png')"
   ]
  },
  {
   "cell_type": "markdown",
   "metadata": {},
   "source": [
    "#### 6. The top average producers of wheat from year 1997 to 2014 are, Punjab, Harayana, Uttar Pradesh, Rajasthan, and Madhya Pradesh"
   ]
  },
  {
   "cell_type": "markdown",
   "metadata": {},
   "source": [
    "### Analysis of the Kharif and Rabi seasonal crops.\n",
    "There are mainly two seasonal crops grown in India and they are, Kharif and Rabi. The Kharif and Rabi are the two cropping patterns which are adopted in many Asian countries, depending upon the monsoon. The cropping season of Kharif crops starts with the onset of monsoon and ends when the rainy season is over. On the other hand, Rabi crops are grown in winter, i.e. sown when monsoon ends and harvested before the advent of the summer season. The reference of the above discussion can be found [here](http://www.arthapedia.in/index.php%3Ftitle=Cropping_seasons_of_India-_Kharif_%2526_Rabi)\n",
    "\n"
   ]
  },
  {
   "cell_type": "markdown",
   "metadata": {},
   "source": [
    "#### In following part will be analyzing the kharif crops"
   ]
  },
  {
   "cell_type": "code",
   "execution_count": 54,
   "metadata": {},
   "outputs": [
    {
     "data": {
      "text/html": [
       "<div>\n",
       "<style scoped>\n",
       "    .dataframe tbody tr th:only-of-type {\n",
       "        vertical-align: middle;\n",
       "    }\n",
       "\n",
       "    .dataframe tbody tr th {\n",
       "        vertical-align: top;\n",
       "    }\n",
       "\n",
       "    .dataframe thead th {\n",
       "        text-align: right;\n",
       "    }\n",
       "</style>\n",
       "<table border=\"1\" class=\"dataframe\">\n",
       "  <thead>\n",
       "    <tr style=\"text-align: right;\">\n",
       "      <th></th>\n",
       "      <th>Crop</th>\n",
       "      <th>Production</th>\n",
       "    </tr>\n",
       "  </thead>\n",
       "  <tbody>\n",
       "    <tr>\n",
       "      <th>0</th>\n",
       "      <td>Sugarcane</td>\n",
       "      <td>1.531013e+06</td>\n",
       "    </tr>\n",
       "    <tr>\n",
       "      <th>1</th>\n",
       "      <td>Jute</td>\n",
       "      <td>1.403731e+05</td>\n",
       "    </tr>\n",
       "    <tr>\n",
       "      <th>2</th>\n",
       "      <td>Rice</td>\n",
       "      <td>1.371270e+05</td>\n",
       "    </tr>\n",
       "    <tr>\n",
       "      <th>3</th>\n",
       "      <td>Mango</td>\n",
       "      <td>1.082624e+05</td>\n",
       "    </tr>\n",
       "    <tr>\n",
       "      <th>4</th>\n",
       "      <td>Paddy</td>\n",
       "      <td>8.319880e+04</td>\n",
       "    </tr>\n",
       "    <tr>\n",
       "      <th>5</th>\n",
       "      <td>Cotton(lint)</td>\n",
       "      <td>7.115016e+04</td>\n",
       "    </tr>\n",
       "    <tr>\n",
       "      <th>6</th>\n",
       "      <td>Soyabean</td>\n",
       "      <td>4.321048e+04</td>\n",
       "    </tr>\n",
       "    <tr>\n",
       "      <th>7</th>\n",
       "      <td>Tomato</td>\n",
       "      <td>3.585597e+04</td>\n",
       "    </tr>\n",
       "    <tr>\n",
       "      <th>8</th>\n",
       "      <td>Banana</td>\n",
       "      <td>2.696570e+04</td>\n",
       "    </tr>\n",
       "    <tr>\n",
       "      <th>9</th>\n",
       "      <td>Maize</td>\n",
       "      <td>2.696113e+04</td>\n",
       "    </tr>\n",
       "    <tr>\n",
       "      <th>10</th>\n",
       "      <td>Bajra</td>\n",
       "      <td>2.594562e+04</td>\n",
       "    </tr>\n",
       "    <tr>\n",
       "      <th>11</th>\n",
       "      <td>Onion</td>\n",
       "      <td>2.107428e+04</td>\n",
       "    </tr>\n",
       "    <tr>\n",
       "      <th>12</th>\n",
       "      <td>Groundnut</td>\n",
       "      <td>1.616391e+04</td>\n",
       "    </tr>\n",
       "    <tr>\n",
       "      <th>13</th>\n",
       "      <td>other oilseeds</td>\n",
       "      <td>1.567279e+04</td>\n",
       "    </tr>\n",
       "    <tr>\n",
       "      <th>14</th>\n",
       "      <td>Lemon</td>\n",
       "      <td>1.387164e+04</td>\n",
       "    </tr>\n",
       "    <tr>\n",
       "      <th>15</th>\n",
       "      <td>Papaya</td>\n",
       "      <td>1.344500e+04</td>\n",
       "    </tr>\n",
       "    <tr>\n",
       "      <th>16</th>\n",
       "      <td>Ragi</td>\n",
       "      <td>1.296563e+04</td>\n",
       "    </tr>\n",
       "    <tr>\n",
       "      <th>17</th>\n",
       "      <td>Jowar</td>\n",
       "      <td>1.239934e+04</td>\n",
       "    </tr>\n",
       "    <tr>\n",
       "      <th>18</th>\n",
       "      <td>Coconut</td>\n",
       "      <td>9.737846e+03</td>\n",
       "    </tr>\n",
       "    <tr>\n",
       "      <th>19</th>\n",
       "      <td>Pulses total</td>\n",
       "      <td>7.893971e+03</td>\n",
       "    </tr>\n",
       "  </tbody>\n",
       "</table>\n",
       "</div>"
      ],
      "text/plain": [
       "              Crop    Production\n",
       "0        Sugarcane  1.531013e+06\n",
       "1             Jute  1.403731e+05\n",
       "2             Rice  1.371270e+05\n",
       "3            Mango  1.082624e+05\n",
       "4            Paddy  8.319880e+04\n",
       "5     Cotton(lint)  7.115016e+04\n",
       "6         Soyabean  4.321048e+04\n",
       "7           Tomato  3.585597e+04\n",
       "8           Banana  2.696570e+04\n",
       "9            Maize  2.696113e+04\n",
       "10           Bajra  2.594562e+04\n",
       "11           Onion  2.107428e+04\n",
       "12       Groundnut  1.616391e+04\n",
       "13  other oilseeds  1.567279e+04\n",
       "14           Lemon  1.387164e+04\n",
       "15          Papaya  1.344500e+04\n",
       "16            Ragi  1.296563e+04\n",
       "17           Jowar  1.239934e+04\n",
       "18         Coconut  9.737846e+03\n",
       "19    Pulses total  7.893971e+03"
      ]
     },
     "execution_count": 54,
     "metadata": {},
     "output_type": "execute_result"
    }
   ],
   "source": [
    "# The calculating the mean value of each crop in the Kharif season between the years 1997-2014\n",
    "x=df[(~df['Crop'].isin(['Total foodgrain','Oilseeds total'])) & (df['Crop_Year']<2015) & (df['Season']=='Kharif')].groupby(['Crop'])\\\n",
    "['Production'].mean().sort_values(ascending=False).reset_index()\n",
    "x.head(20)"
   ]
  },
  {
   "cell_type": "markdown",
   "metadata": {},
   "source": [
    "### The top 10 Kharif names kept and rest are categorized as other Kharif crops"
   ]
  },
  {
   "cell_type": "code",
   "execution_count": 55,
   "metadata": {},
   "outputs": [
    {
     "name": "stdout",
     "output_type": "stream",
     "text": [
      "           Crop    Production\n",
      "0     Sugarcane  1.531013e+06\n",
      "1          Jute  1.403731e+05\n",
      "2          Rice  1.371270e+05\n",
      "3         Mango  1.082624e+05\n",
      "4         Paddy  8.319880e+04\n",
      "5  Cotton(lint)  7.115016e+04\n",
      "6      Soyabean  4.321048e+04\n",
      "7        Tomato  3.585597e+04\n",
      "8        Banana  2.696570e+04\n",
      "9         Maize  2.696113e+04\n"
     ]
    }
   ],
   "source": [
    "# y stores the total production of the Kharif crops except the top 10 Kharif crops\n",
    "y=x[10:].sum()\n",
    "x=x[0:10]\n",
    "print(x)"
   ]
  },
  {
   "cell_type": "code",
   "execution_count": 56,
   "metadata": {},
   "outputs": [
    {
     "name": "stdout",
     "output_type": "stream",
     "text": [
      "286303.908898533\n"
     ]
    }
   ],
   "source": [
    "print(y.values[1])"
   ]
  },
  {
   "cell_type": "code",
   "execution_count": 57,
   "metadata": {},
   "outputs": [
    {
     "data": {
      "text/html": [
       "<div>\n",
       "<style scoped>\n",
       "    .dataframe tbody tr th:only-of-type {\n",
       "        vertical-align: middle;\n",
       "    }\n",
       "\n",
       "    .dataframe tbody tr th {\n",
       "        vertical-align: top;\n",
       "    }\n",
       "\n",
       "    .dataframe thead th {\n",
       "        text-align: right;\n",
       "    }\n",
       "</style>\n",
       "<table border=\"1\" class=\"dataframe\">\n",
       "  <thead>\n",
       "    <tr style=\"text-align: right;\">\n",
       "      <th></th>\n",
       "      <th>Crop</th>\n",
       "      <th>Production</th>\n",
       "    </tr>\n",
       "  </thead>\n",
       "  <tbody>\n",
       "    <tr>\n",
       "      <th>0</th>\n",
       "      <td>Sugarcane</td>\n",
       "      <td>1.531013e+06</td>\n",
       "    </tr>\n",
       "    <tr>\n",
       "      <th>1</th>\n",
       "      <td>Jute</td>\n",
       "      <td>1.403731e+05</td>\n",
       "    </tr>\n",
       "    <tr>\n",
       "      <th>2</th>\n",
       "      <td>Rice</td>\n",
       "      <td>1.371270e+05</td>\n",
       "    </tr>\n",
       "    <tr>\n",
       "      <th>3</th>\n",
       "      <td>Mango</td>\n",
       "      <td>1.082624e+05</td>\n",
       "    </tr>\n",
       "    <tr>\n",
       "      <th>4</th>\n",
       "      <td>Paddy</td>\n",
       "      <td>8.319880e+04</td>\n",
       "    </tr>\n",
       "    <tr>\n",
       "      <th>5</th>\n",
       "      <td>Cotton(lint)</td>\n",
       "      <td>7.115016e+04</td>\n",
       "    </tr>\n",
       "    <tr>\n",
       "      <th>6</th>\n",
       "      <td>Soyabean</td>\n",
       "      <td>4.321048e+04</td>\n",
       "    </tr>\n",
       "    <tr>\n",
       "      <th>7</th>\n",
       "      <td>Tomato</td>\n",
       "      <td>3.585597e+04</td>\n",
       "    </tr>\n",
       "    <tr>\n",
       "      <th>8</th>\n",
       "      <td>Banana</td>\n",
       "      <td>2.696570e+04</td>\n",
       "    </tr>\n",
       "    <tr>\n",
       "      <th>9</th>\n",
       "      <td>Maize</td>\n",
       "      <td>2.696113e+04</td>\n",
       "    </tr>\n",
       "    <tr>\n",
       "      <th>10</th>\n",
       "      <td>Others</td>\n",
       "      <td>2.863039e+05</td>\n",
       "    </tr>\n",
       "  </tbody>\n",
       "</table>\n",
       "</div>"
      ],
      "text/plain": [
       "            Crop    Production\n",
       "0      Sugarcane  1.531013e+06\n",
       "1           Jute  1.403731e+05\n",
       "2           Rice  1.371270e+05\n",
       "3          Mango  1.082624e+05\n",
       "4          Paddy  8.319880e+04\n",
       "5   Cotton(lint)  7.115016e+04\n",
       "6       Soyabean  4.321048e+04\n",
       "7         Tomato  3.585597e+04\n",
       "8         Banana  2.696570e+04\n",
       "9          Maize  2.696113e+04\n",
       "10        Others  2.863039e+05"
      ]
     },
     "execution_count": 57,
     "metadata": {},
     "output_type": "execute_result"
    }
   ],
   "source": [
    "# Adding the 'Others' category\n",
    "x.loc[len(x.index)] = ['Others', y.values[1]]\n",
    "x.head(11)"
   ]
  },
  {
   "cell_type": "code",
   "execution_count": 58,
   "metadata": {},
   "outputs": [
    {
     "data": {
      "image/png": "[encoded data removed]",
      "text/plain": [
       "<Figure size 720x720 with 1 Axes>"
      ]
     },
     "metadata": {},
     "output_type": "display_data"
    }
   ],
   "source": [
    "fig1, ax1 = plt.subplots(figsize=(10,10))\n",
    "ax1.pie(x['Production'], labels=x['Crop'], autopct='%1.1f%%',\n",
    "        shadow=True, startangle=90, colors = ['lightskyblue', 'red', 'blue', 'green', 'gold',\\\n",
    "                                             'black', 'magenta', 'yellow', 'grey', 'pink', 'brown'])\n",
    "ax1.axis('equal')  # Equal aspect ratio ensures that pie is drawn as a circle.\n",
    "plt.title(\"Average distribution of Kharif crops from the year 1997-2014\",\\\n",
    "          bbox={'facecolor':'0.8', 'pad':5}, fontsize=22)\n",
    "plt.savefig('Distribution_kharif_crops.png')\n",
    "plt.show()"
   ]
  },
  {
   "cell_type": "markdown",
   "metadata": {},
   "source": [
    "#### From above graph we observe the following,\n",
    "7. Sugarcane is the predominant kharif crop. Currently, India is the world second largest exporter of sugarcane, for more details read [here](https://en.wikipedia.org/wiki/Sugarcane). The reason behind this sheer dominance of sugarcane can be seen because sugarcane is the prime source of sugar in India. It occupies a prominent position in the Indian Agricultural scenario on account of its wider adoption in different agro-climatic conditions of the country. It has signicant role in national economy and provides raw material to sugar and over 25 other major industries viz. producing alcohol, papers, chemicals, and cattle feed. It also nds place in pharmaceutical industry, next to textiles, is entirely based on cane production as raw material. More info is available [here](https://iisr.icar.gov.in/iisr/aicrp/download/Sugarcane_in_India.pdf)"
   ]
  },
  {
   "cell_type": "markdown",
   "metadata": {},
   "source": [
    "#### In following section going to look into the Rabi crop"
   ]
  },
  {
   "cell_type": "code",
   "execution_count": 59,
   "metadata": {},
   "outputs": [
    {
     "data": {
      "text/html": [
       "<div>\n",
       "<style scoped>\n",
       "    .dataframe tbody tr th:only-of-type {\n",
       "        vertical-align: middle;\n",
       "    }\n",
       "\n",
       "    .dataframe tbody tr th {\n",
       "        vertical-align: top;\n",
       "    }\n",
       "\n",
       "    .dataframe thead th {\n",
       "        text-align: right;\n",
       "    }\n",
       "</style>\n",
       "<table border=\"1\" class=\"dataframe\">\n",
       "  <thead>\n",
       "    <tr style=\"text-align: right;\">\n",
       "      <th></th>\n",
       "      <th>Crop</th>\n",
       "      <th>Production</th>\n",
       "    </tr>\n",
       "  </thead>\n",
       "  <tbody>\n",
       "    <tr>\n",
       "      <th>0</th>\n",
       "      <td>Wheat</td>\n",
       "      <td>176213.226316</td>\n",
       "    </tr>\n",
       "    <tr>\n",
       "      <th>1</th>\n",
       "      <td>Potato</td>\n",
       "      <td>127919.014239</td>\n",
       "    </tr>\n",
       "    <tr>\n",
       "      <th>2</th>\n",
       "      <td>Rice</td>\n",
       "      <td>105559.473250</td>\n",
       "    </tr>\n",
       "    <tr>\n",
       "      <th>3</th>\n",
       "      <td>Soyabean</td>\n",
       "      <td>46177.945122</td>\n",
       "    </tr>\n",
       "    <tr>\n",
       "      <th>4</th>\n",
       "      <td>Papaya</td>\n",
       "      <td>45353.500000</td>\n",
       "    </tr>\n",
       "    <tr>\n",
       "      <th>5</th>\n",
       "      <td>Jowar</td>\n",
       "      <td>31789.872959</td>\n",
       "    </tr>\n",
       "    <tr>\n",
       "      <th>6</th>\n",
       "      <td>Tomato</td>\n",
       "      <td>24289.153846</td>\n",
       "    </tr>\n",
       "    <tr>\n",
       "      <th>7</th>\n",
       "      <td>Banana</td>\n",
       "      <td>21420.650000</td>\n",
       "    </tr>\n",
       "    <tr>\n",
       "      <th>8</th>\n",
       "      <td>Maize</td>\n",
       "      <td>17513.071488</td>\n",
       "    </tr>\n",
       "    <tr>\n",
       "      <th>9</th>\n",
       "      <td>Gram</td>\n",
       "      <td>13550.787204</td>\n",
       "    </tr>\n",
       "    <tr>\n",
       "      <th>10</th>\n",
       "      <td>Rapeseed &amp;Mustard</td>\n",
       "      <td>12877.003332</td>\n",
       "    </tr>\n",
       "    <tr>\n",
       "      <th>11</th>\n",
       "      <td>Paddy</td>\n",
       "      <td>12610.000000</td>\n",
       "    </tr>\n",
       "    <tr>\n",
       "      <th>12</th>\n",
       "      <td>Jute</td>\n",
       "      <td>11768.000000</td>\n",
       "    </tr>\n",
       "    <tr>\n",
       "      <th>13</th>\n",
       "      <td>Groundnut</td>\n",
       "      <td>10743.949283</td>\n",
       "    </tr>\n",
       "    <tr>\n",
       "      <th>14</th>\n",
       "      <td>Pineapple</td>\n",
       "      <td>9517.259259</td>\n",
       "    </tr>\n",
       "    <tr>\n",
       "      <th>15</th>\n",
       "      <td>Onion</td>\n",
       "      <td>8167.991053</td>\n",
       "    </tr>\n",
       "    <tr>\n",
       "      <th>16</th>\n",
       "      <td>Tobacco</td>\n",
       "      <td>8125.453988</td>\n",
       "    </tr>\n",
       "    <tr>\n",
       "      <th>17</th>\n",
       "      <td>Brinjal</td>\n",
       "      <td>5785.697674</td>\n",
       "    </tr>\n",
       "    <tr>\n",
       "      <th>18</th>\n",
       "      <td>Barley</td>\n",
       "      <td>5393.672153</td>\n",
       "    </tr>\n",
       "    <tr>\n",
       "      <th>19</th>\n",
       "      <td>Cotton(lint)</td>\n",
       "      <td>5258.036232</td>\n",
       "    </tr>\n",
       "  </tbody>\n",
       "</table>\n",
       "</div>"
      ],
      "text/plain": [
       "                 Crop     Production\n",
       "0               Wheat  176213.226316\n",
       "1              Potato  127919.014239\n",
       "2                Rice  105559.473250\n",
       "3            Soyabean   46177.945122\n",
       "4              Papaya   45353.500000\n",
       "5               Jowar   31789.872959\n",
       "6              Tomato   24289.153846\n",
       "7              Banana   21420.650000\n",
       "8               Maize   17513.071488\n",
       "9                Gram   13550.787204\n",
       "10  Rapeseed &Mustard   12877.003332\n",
       "11              Paddy   12610.000000\n",
       "12               Jute   11768.000000\n",
       "13          Groundnut   10743.949283\n",
       "14          Pineapple    9517.259259\n",
       "15              Onion    8167.991053\n",
       "16            Tobacco    8125.453988\n",
       "17            Brinjal    5785.697674\n",
       "18             Barley    5393.672153\n",
       "19       Cotton(lint)    5258.036232"
      ]
     },
     "execution_count": 59,
     "metadata": {},
     "output_type": "execute_result"
    }
   ],
   "source": [
    "# The calculating the mean value of each crop in the Rabi season between the years 1997-2014\n",
    "x=df[(~df['Crop'].isin(['Total foodgrain','Oilseeds total','Other Kharif pulses'])) & (df['Crop_Year']<2015) & \\\n",
    "     (df['Season']=='Rabi')].groupby(['Crop'])['Production'].mean().sort_values(ascending=False).reset_index()\n",
    "x.head(20)"
   ]
  },
  {
   "cell_type": "markdown",
   "metadata": {},
   "source": [
    "### The top 15 Rabi names kept and rest are categorized as other Rabi crops"
   ]
  },
  {
   "cell_type": "code",
   "execution_count": 60,
   "metadata": {},
   "outputs": [
    {
     "name": "stdout",
     "output_type": "stream",
     "text": [
      "                 Crop     Production\n",
      "0               Wheat  176213.226316\n",
      "1              Potato  127919.014239\n",
      "2                Rice  105559.473250\n",
      "3            Soyabean   46177.945122\n",
      "4              Papaya   45353.500000\n",
      "5               Jowar   31789.872959\n",
      "6              Tomato   24289.153846\n",
      "7              Banana   21420.650000\n",
      "8               Maize   17513.071488\n",
      "9                Gram   13550.787204\n",
      "10  Rapeseed &Mustard   12877.003332\n",
      "11              Paddy   12610.000000\n",
      "12               Jute   11768.000000\n",
      "13          Groundnut   10743.949283\n",
      "14          Pineapple    9517.259259\n"
     ]
    }
   ],
   "source": [
    "# y stores the total production of the Rabi crops except the top 15 Rabi crops\n",
    "y=x[15:].sum().values[1]\n",
    "x=x[0:15]\n",
    "print(x)"
   ]
  },
  {
   "cell_type": "code",
   "execution_count": 61,
   "metadata": {},
   "outputs": [
    {
     "data": {
      "text/html": [
       "<div>\n",
       "<style scoped>\n",
       "    .dataframe tbody tr th:only-of-type {\n",
       "        vertical-align: middle;\n",
       "    }\n",
       "\n",
       "    .dataframe tbody tr th {\n",
       "        vertical-align: top;\n",
       "    }\n",
       "\n",
       "    .dataframe thead th {\n",
       "        text-align: right;\n",
       "    }\n",
       "</style>\n",
       "<table border=\"1\" class=\"dataframe\">\n",
       "  <thead>\n",
       "    <tr style=\"text-align: right;\">\n",
       "      <th></th>\n",
       "      <th>Crop</th>\n",
       "      <th>Production</th>\n",
       "    </tr>\n",
       "  </thead>\n",
       "  <tbody>\n",
       "    <tr>\n",
       "      <th>0</th>\n",
       "      <td>Wheat</td>\n",
       "      <td>176213.226316</td>\n",
       "    </tr>\n",
       "    <tr>\n",
       "      <th>1</th>\n",
       "      <td>Potato</td>\n",
       "      <td>127919.014239</td>\n",
       "    </tr>\n",
       "    <tr>\n",
       "      <th>2</th>\n",
       "      <td>Rice</td>\n",
       "      <td>105559.473250</td>\n",
       "    </tr>\n",
       "    <tr>\n",
       "      <th>3</th>\n",
       "      <td>Soyabean</td>\n",
       "      <td>46177.945122</td>\n",
       "    </tr>\n",
       "    <tr>\n",
       "      <th>4</th>\n",
       "      <td>Papaya</td>\n",
       "      <td>45353.500000</td>\n",
       "    </tr>\n",
       "    <tr>\n",
       "      <th>5</th>\n",
       "      <td>Jowar</td>\n",
       "      <td>31789.872959</td>\n",
       "    </tr>\n",
       "    <tr>\n",
       "      <th>6</th>\n",
       "      <td>Tomato</td>\n",
       "      <td>24289.153846</td>\n",
       "    </tr>\n",
       "    <tr>\n",
       "      <th>7</th>\n",
       "      <td>Banana</td>\n",
       "      <td>21420.650000</td>\n",
       "    </tr>\n",
       "    <tr>\n",
       "      <th>8</th>\n",
       "      <td>Maize</td>\n",
       "      <td>17513.071488</td>\n",
       "    </tr>\n",
       "    <tr>\n",
       "      <th>9</th>\n",
       "      <td>Gram</td>\n",
       "      <td>13550.787204</td>\n",
       "    </tr>\n",
       "    <tr>\n",
       "      <th>10</th>\n",
       "      <td>Rapeseed &amp;Mustard</td>\n",
       "      <td>12877.003332</td>\n",
       "    </tr>\n",
       "  </tbody>\n",
       "</table>\n",
       "</div>"
      ],
      "text/plain": [
       "                 Crop     Production\n",
       "0               Wheat  176213.226316\n",
       "1              Potato  127919.014239\n",
       "2                Rice  105559.473250\n",
       "3            Soyabean   46177.945122\n",
       "4              Papaya   45353.500000\n",
       "5               Jowar   31789.872959\n",
       "6              Tomato   24289.153846\n",
       "7              Banana   21420.650000\n",
       "8               Maize   17513.071488\n",
       "9                Gram   13550.787204\n",
       "10  Rapeseed &Mustard   12877.003332"
      ]
     },
     "execution_count": 61,
     "metadata": {},
     "output_type": "execute_result"
    }
   ],
   "source": [
    "# Adding the 'Others' category\n",
    "x.loc[len(x.index)] = ['Others', y]\n",
    "x.head(11)"
   ]
  },
  {
   "cell_type": "code",
   "execution_count": 62,
   "metadata": {},
   "outputs": [
    {
     "data": {
      "image/png": "[encoded data removed]",
      "text/plain": [
       "<Figure size 720x720 with 1 Axes>"
      ]
     },
     "metadata": {},
     "output_type": "display_data"
    }
   ],
   "source": [
    "fig1, ax1 = plt.subplots(figsize=(10,10))\n",
    "ax1.pie(x['Production'], labels=x['Crop'], autopct='%1.1f%%',\n",
    "        shadow=True, startangle=90, colors = ['lightskyblue', 'red', 'blue', 'green', 'gold',\\\n",
    "                                             'black', 'magenta', 'yellow', 'grey', 'pink', 'brown'])\n",
    "ax1.axis('equal')  # Equal aspect ratio ensures that pie is drawn as a circle.\n",
    "plt.title(\"Average distribution of Rabi crops from the year 1997-2014\",\\\n",
    "          bbox={'facecolor':'0.8', 'pad':5}, fontsize=22)\n",
    "plt.savefig('Distribution_rabi_crops.png')\n",
    "plt.show()"
   ]
  },
  {
   "cell_type": "code",
   "execution_count": 63,
   "metadata": {},
   "outputs": [],
   "source": [
    "del x"
   ]
  },
  {
   "cell_type": "markdown",
   "metadata": {},
   "source": [
    "#### From above graph we observe the following,\n",
    "8. The crops wheat, potato and rice are predominant crops of the Rabi season, and reference for this analysis is given [here](https://www.researchgate.net/publication/287558937_In-Season_Assessment_of_Rabi_Crop_Progression_and_Condition_from_Multi_Source_Data). The predominance of wheat is due the fact that after the 'Green Revolution' period in late sixties, our country became self dependent in wheat production. At present, country is producing much more excess wheat than the requirement and Godowns are over-flooded with wheat. The reference for the above analysis can be found [here](https://farmer.gov.in/m_cropstaticswheat.aspx)"
   ]
  },
  {
   "cell_type": "markdown",
   "metadata": {},
   "source": [
    "#### From the preceding two graphs we can conclude that \n",
    "9. Sugarcane and wheat are predominant crops grown during the kharif and rabi seasons, respectively. However, this imbalance can balanced by crop diversification. However, crop diversification depends upon lot of factors, such as , increasing income on small farm holdings, withstanding price fluctuation, mitigating effects of increasing climate variability, balancing food demand etc. More about can read [here](https://www.ctc-n.org/technologies/crop-diversification-and-new-varieties#:~:text=Major%20driving%20forces%20for%20crop,effects%20of%20increasing%20climate%20variability). The need of diversification from sugarcane and wheat has also been addressed in following references [1](https://link.springer.com/article/10.1007/s12355-016-0478-2) and [2](https://link.springer.com/article/10.1007/s40003-020-00533-9), respectively."
   ]
  },
  {
   "cell_type": "markdown",
   "metadata": {},
   "source": [
    "### Finally study the variation of the total agricultural land with respect to progression time."
   ]
  },
  {
   "cell_type": "code",
   "execution_count": 64,
   "metadata": {},
   "outputs": [
    {
     "data": {
      "text/html": [
       "<div>\n",
       "<style scoped>\n",
       "    .dataframe tbody tr th:only-of-type {\n",
       "        vertical-align: middle;\n",
       "    }\n",
       "\n",
       "    .dataframe tbody tr th {\n",
       "        vertical-align: top;\n",
       "    }\n",
       "\n",
       "    .dataframe thead th {\n",
       "        text-align: right;\n",
       "    }\n",
       "</style>\n",
       "<table border=\"1\" class=\"dataframe\">\n",
       "  <thead>\n",
       "    <tr style=\"text-align: right;\">\n",
       "      <th></th>\n",
       "      <th>Crop_Year</th>\n",
       "      <th>Area</th>\n",
       "    </tr>\n",
       "  </thead>\n",
       "  <tbody>\n",
       "    <tr>\n",
       "      <th>0</th>\n",
       "      <td>1997.0</td>\n",
       "      <td>1.609894e+08</td>\n",
       "    </tr>\n",
       "    <tr>\n",
       "      <th>1</th>\n",
       "      <td>1998.0</td>\n",
       "      <td>1.594726e+08</td>\n",
       "    </tr>\n",
       "    <tr>\n",
       "      <th>2</th>\n",
       "      <td>1999.0</td>\n",
       "      <td>1.586320e+08</td>\n",
       "    </tr>\n",
       "    <tr>\n",
       "      <th>3</th>\n",
       "      <td>2000.0</td>\n",
       "      <td>1.652647e+08</td>\n",
       "    </tr>\n",
       "    <tr>\n",
       "      <th>4</th>\n",
       "      <td>2001.0</td>\n",
       "      <td>1.652545e+08</td>\n",
       "    </tr>\n",
       "  </tbody>\n",
       "</table>\n",
       "</div>"
      ],
      "text/plain": [
       "   Crop_Year          Area\n",
       "0     1997.0  1.609894e+08\n",
       "1     1998.0  1.594726e+08\n",
       "2     1999.0  1.586320e+08\n",
       "3     2000.0  1.652647e+08\n",
       "4     2001.0  1.652545e+08"
      ]
     },
     "execution_count": 64,
     "metadata": {},
     "output_type": "execute_result"
    }
   ],
   "source": [
    "X=df[(~df['Crop'].isin(['Total foodgrain','Oilseeds total'])) & (df['Crop_Year']<2015)].groupby('Crop_Year')\\\n",
    "['Area'].sum().reset_index()\n",
    "X.head()"
   ]
  },
  {
   "cell_type": "code",
   "execution_count": 65,
   "metadata": {},
   "outputs": [
    {
     "data": {
      "image/png": "[encoded data removed]",
      "text/plain": [
       "<Figure size 1008x432 with 1 Axes>"
      ]
     },
     "metadata": {
      "needs_background": "light"
     },
     "output_type": "display_data"
    }
   ],
   "source": [
    "X.plot(x='Crop_Year', y='Area', figsize=(14, 6), marker='o', xlim=[1997,2014])\n",
    "plt.xlabel('Year',fontsize=18)\n",
    "plt.ylabel('Area',fontsize=18)\n",
    "plt.title('Study of total agricultural area with progression of time',fontsize=22)\n",
    "plt.savefig('India_agricultural_land.png')"
   ]
  },
  {
   "cell_type": "markdown",
   "metadata": {},
   "source": [
    "#### 10. From the above figure we observe that there is gradual decline in the agricultural land after the year 2010. The decrease is mainly attributed to diversion of cultivable for non-agricultural purposes, including construction, industries, and other development activities. Read more about it [here](http://timesofindia.indiatimes.com/articleshow/21852689.cms?utm_source=contentofinterest&utm_medium=text&utm_campaign=cppst) "
   ]
  },
  {
   "cell_type": "markdown",
   "metadata": {},
   "source": [
    "## The analysis of the above graphs are given in more detail in the Pranay_Crop_production_case_study.pdf"
   ]
  },
  {
   "cell_type": "code",
   "execution_count": null,
   "metadata": {},
   "outputs": [],
   "source": []
  }
 ],
 "metadata": {
  "kernelspec": {
   "display_name": "Python 3",
   "language": "python",
   "name": "python3"
  },
  "language_info": {
   "codemirror_mode": {
    "name": "ipython",
    "version": 3
   },
   "file_extension": ".py",
   "mimetype": "text/x-python",
   "name": "python",
   "nbconvert_exporter": "python",
   "pygments_lexer": "ipython3",
   "version": "3.7.9"
  }
 },
 "nbformat": 4,
 "nbformat_minor": 4
}
